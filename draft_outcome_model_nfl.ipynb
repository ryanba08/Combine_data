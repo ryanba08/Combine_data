{
  "nbformat": 4,
  "nbformat_minor": 0,
  "metadata": {
    "colab": {
      "name": "draft_outcome_model_nfl.ipynb",
      "provenance": [],
      "collapsed_sections": []
    },
    "kernelspec": {
      "name": "python3",
      "display_name": "Python 3"
    },
    "language_info": {
      "name": "python"
    }
  },
  "cells": [
    {
      "cell_type": "code",
      "source": [
        "from google.colab import drive\n",
        "drive.mount('/content/drive')"
      ],
      "metadata": {
        "colab": {
          "base_uri": "https://localhost:8080/"
        },
        "id": "x53w1q4nUxk3",
        "outputId": "205560bd-91f6-4db2-de75-c775a5e924c9"
      },
      "execution_count": 1,
      "outputs": [
        {
          "output_type": "stream",
          "name": "stdout",
          "text": [
            "Drive already mounted at /content/drive; to attempt to forcibly remount, call drive.mount(\"/content/drive\", force_remount=True).\n"
          ]
        }
      ]
    },
    {
      "cell_type": "code",
      "execution_count": 2,
      "metadata": {
        "id": "XTeRqxe_UssL"
      },
      "outputs": [],
      "source": [
        "import pandas as pd\n",
        "import numpy as np\n",
        "import matplotlib.pyplot as plt\n",
        "import seaborn as sns\n",
        "from google.colab import files\n",
        "from sklearn.model_selection import train_test_split\n",
        "from sklearn.pipeline import make_pipeline\n",
        "from sklearn.preprocessing import StandardScaler, OneHotEncoder\n",
        "from sklearn.linear_model import LinearRegression\n",
        "from sklearn.ensemble import RandomForestRegressor\n",
        "from lightgbm import LGBMRegressor\n",
        "from sklearn.model_selection import GridSearchCV\n",
        "from sklearn.compose import make_column_transformer, make_column_selector\n",
        "from sklearn.metrics import mean_squared_error, r2_score"
      ]
    },
    {
      "cell_type": "code",
      "source": [
        "df = pd.read_csv('/content/drive/MyDrive/CODING/project2/combine_data_since_2000_PROCESSED_2018-04-26.csv')\n",
        "df.head()"
      ],
      "metadata": {
        "colab": {
          "base_uri": "https://localhost:8080/",
          "height": 206
        },
        "id": "1OhJhd2CU8Nk",
        "outputId": "c0944663-d22e-41d5-ed3d-40a54c9a23c3"
      },
      "execution_count": 3,
      "outputs": [
        {
          "output_type": "execute_result",
          "data": {
            "text/html": [
              "\n",
              "  <div id=\"df-390ccd45-f8c8-4e56-bf91-07a7057c61ac\">\n",
              "    <div class=\"colab-df-container\">\n",
              "      <div>\n",
              "<style scoped>\n",
              "    .dataframe tbody tr th:only-of-type {\n",
              "        vertical-align: middle;\n",
              "    }\n",
              "\n",
              "    .dataframe tbody tr th {\n",
              "        vertical-align: top;\n",
              "    }\n",
              "\n",
              "    .dataframe thead th {\n",
              "        text-align: right;\n",
              "    }\n",
              "</style>\n",
              "<table border=\"1\" class=\"dataframe\">\n",
              "  <thead>\n",
              "    <tr style=\"text-align: right;\">\n",
              "      <th></th>\n",
              "      <th>Player</th>\n",
              "      <th>Pos</th>\n",
              "      <th>Ht</th>\n",
              "      <th>Wt</th>\n",
              "      <th>Forty</th>\n",
              "      <th>Vertical</th>\n",
              "      <th>BenchReps</th>\n",
              "      <th>BroadJump</th>\n",
              "      <th>Cone</th>\n",
              "      <th>Shuttle</th>\n",
              "      <th>Year</th>\n",
              "      <th>Pfr_ID</th>\n",
              "      <th>AV</th>\n",
              "      <th>Team</th>\n",
              "      <th>Round</th>\n",
              "      <th>Pick</th>\n",
              "    </tr>\n",
              "  </thead>\n",
              "  <tbody>\n",
              "    <tr>\n",
              "      <th>0</th>\n",
              "      <td>John Abraham</td>\n",
              "      <td>OLB</td>\n",
              "      <td>76</td>\n",
              "      <td>252</td>\n",
              "      <td>4.55</td>\n",
              "      <td>NaN</td>\n",
              "      <td>NaN</td>\n",
              "      <td>NaN</td>\n",
              "      <td>NaN</td>\n",
              "      <td>NaN</td>\n",
              "      <td>2000</td>\n",
              "      <td>AbraJo00</td>\n",
              "      <td>26.0</td>\n",
              "      <td>New York Jets</td>\n",
              "      <td>1.0</td>\n",
              "      <td>13.0</td>\n",
              "    </tr>\n",
              "    <tr>\n",
              "      <th>1</th>\n",
              "      <td>Shaun Alexander</td>\n",
              "      <td>RB</td>\n",
              "      <td>72</td>\n",
              "      <td>218</td>\n",
              "      <td>4.58</td>\n",
              "      <td>NaN</td>\n",
              "      <td>NaN</td>\n",
              "      <td>NaN</td>\n",
              "      <td>NaN</td>\n",
              "      <td>NaN</td>\n",
              "      <td>2000</td>\n",
              "      <td>AlexSh00</td>\n",
              "      <td>26.0</td>\n",
              "      <td>Seattle Seahawks</td>\n",
              "      <td>1.0</td>\n",
              "      <td>19.0</td>\n",
              "    </tr>\n",
              "    <tr>\n",
              "      <th>2</th>\n",
              "      <td>Darnell Alford</td>\n",
              "      <td>OT</td>\n",
              "      <td>76</td>\n",
              "      <td>334</td>\n",
              "      <td>5.56</td>\n",
              "      <td>25.0</td>\n",
              "      <td>23.0</td>\n",
              "      <td>94.0</td>\n",
              "      <td>8.48</td>\n",
              "      <td>4.98</td>\n",
              "      <td>2000</td>\n",
              "      <td>AlfoDa20</td>\n",
              "      <td>0.0</td>\n",
              "      <td>Kansas City Chiefs</td>\n",
              "      <td>6.0</td>\n",
              "      <td>188.0</td>\n",
              "    </tr>\n",
              "    <tr>\n",
              "      <th>3</th>\n",
              "      <td>Kyle Allamon</td>\n",
              "      <td>TE</td>\n",
              "      <td>74</td>\n",
              "      <td>253</td>\n",
              "      <td>4.97</td>\n",
              "      <td>29.0</td>\n",
              "      <td>NaN</td>\n",
              "      <td>104.0</td>\n",
              "      <td>7.29</td>\n",
              "      <td>4.49</td>\n",
              "      <td>2000</td>\n",
              "      <td>NaN</td>\n",
              "      <td>0.0</td>\n",
              "      <td>NaN</td>\n",
              "      <td>NaN</td>\n",
              "      <td>NaN</td>\n",
              "    </tr>\n",
              "    <tr>\n",
              "      <th>4</th>\n",
              "      <td>Rashard Anderson</td>\n",
              "      <td>CB</td>\n",
              "      <td>74</td>\n",
              "      <td>206</td>\n",
              "      <td>4.55</td>\n",
              "      <td>34.0</td>\n",
              "      <td>NaN</td>\n",
              "      <td>123.0</td>\n",
              "      <td>7.18</td>\n",
              "      <td>4.15</td>\n",
              "      <td>2000</td>\n",
              "      <td>AndeRa21</td>\n",
              "      <td>6.0</td>\n",
              "      <td>Carolina Panthers</td>\n",
              "      <td>1.0</td>\n",
              "      <td>23.0</td>\n",
              "    </tr>\n",
              "  </tbody>\n",
              "</table>\n",
              "</div>\n",
              "      <button class=\"colab-df-convert\" onclick=\"convertToInteractive('df-390ccd45-f8c8-4e56-bf91-07a7057c61ac')\"\n",
              "              title=\"Convert this dataframe to an interactive table.\"\n",
              "              style=\"display:none;\">\n",
              "        \n",
              "  <svg xmlns=\"http://www.w3.org/2000/svg\" height=\"24px\"viewBox=\"0 0 24 24\"\n",
              "       width=\"24px\">\n",
              "    <path d=\"M0 0h24v24H0V0z\" fill=\"none\"/>\n",
              "    <path d=\"M18.56 5.44l.94 2.06.94-2.06 2.06-.94-2.06-.94-.94-2.06-.94 2.06-2.06.94zm-11 1L8.5 8.5l.94-2.06 2.06-.94-2.06-.94L8.5 2.5l-.94 2.06-2.06.94zm10 10l.94 2.06.94-2.06 2.06-.94-2.06-.94-.94-2.06-.94 2.06-2.06.94z\"/><path d=\"M17.41 7.96l-1.37-1.37c-.4-.4-.92-.59-1.43-.59-.52 0-1.04.2-1.43.59L10.3 9.45l-7.72 7.72c-.78.78-.78 2.05 0 2.83L4 21.41c.39.39.9.59 1.41.59.51 0 1.02-.2 1.41-.59l7.78-7.78 2.81-2.81c.8-.78.8-2.07 0-2.86zM5.41 20L4 18.59l7.72-7.72 1.47 1.35L5.41 20z\"/>\n",
              "  </svg>\n",
              "      </button>\n",
              "      \n",
              "  <style>\n",
              "    .colab-df-container {\n",
              "      display:flex;\n",
              "      flex-wrap:wrap;\n",
              "      gap: 12px;\n",
              "    }\n",
              "\n",
              "    .colab-df-convert {\n",
              "      background-color: #E8F0FE;\n",
              "      border: none;\n",
              "      border-radius: 50%;\n",
              "      cursor: pointer;\n",
              "      display: none;\n",
              "      fill: #1967D2;\n",
              "      height: 32px;\n",
              "      padding: 0 0 0 0;\n",
              "      width: 32px;\n",
              "    }\n",
              "\n",
              "    .colab-df-convert:hover {\n",
              "      background-color: #E2EBFA;\n",
              "      box-shadow: 0px 1px 2px rgba(60, 64, 67, 0.3), 0px 1px 3px 1px rgba(60, 64, 67, 0.15);\n",
              "      fill: #174EA6;\n",
              "    }\n",
              "\n",
              "    [theme=dark] .colab-df-convert {\n",
              "      background-color: #3B4455;\n",
              "      fill: #D2E3FC;\n",
              "    }\n",
              "\n",
              "    [theme=dark] .colab-df-convert:hover {\n",
              "      background-color: #434B5C;\n",
              "      box-shadow: 0px 1px 3px 1px rgba(0, 0, 0, 0.15);\n",
              "      filter: drop-shadow(0px 1px 2px rgba(0, 0, 0, 0.3));\n",
              "      fill: #FFFFFF;\n",
              "    }\n",
              "  </style>\n",
              "\n",
              "      <script>\n",
              "        const buttonEl =\n",
              "          document.querySelector('#df-390ccd45-f8c8-4e56-bf91-07a7057c61ac button.colab-df-convert');\n",
              "        buttonEl.style.display =\n",
              "          google.colab.kernel.accessAllowed ? 'block' : 'none';\n",
              "\n",
              "        async function convertToInteractive(key) {\n",
              "          const element = document.querySelector('#df-390ccd45-f8c8-4e56-bf91-07a7057c61ac');\n",
              "          const dataTable =\n",
              "            await google.colab.kernel.invokeFunction('convertToInteractive',\n",
              "                                                     [key], {});\n",
              "          if (!dataTable) return;\n",
              "\n",
              "          const docLinkHtml = 'Like what you see? Visit the ' +\n",
              "            '<a target=\"_blank\" href=https://colab.research.google.com/notebooks/data_table.ipynb>data table notebook</a>'\n",
              "            + ' to learn more about interactive tables.';\n",
              "          element.innerHTML = '';\n",
              "          dataTable['output_type'] = 'display_data';\n",
              "          await google.colab.output.renderOutput(dataTable, element);\n",
              "          const docLink = document.createElement('div');\n",
              "          docLink.innerHTML = docLinkHtml;\n",
              "          element.appendChild(docLink);\n",
              "        }\n",
              "      </script>\n",
              "    </div>\n",
              "  </div>\n",
              "  "
            ],
            "text/plain": [
              "             Player  Pos  Ht   Wt  ...    AV                Team  Round   Pick\n",
              "0      John Abraham  OLB  76  252  ...  26.0       New York Jets    1.0   13.0\n",
              "1   Shaun Alexander   RB  72  218  ...  26.0    Seattle Seahawks    1.0   19.0\n",
              "2    Darnell Alford   OT  76  334  ...   0.0  Kansas City Chiefs    6.0  188.0\n",
              "3      Kyle Allamon   TE  74  253  ...   0.0                 NaN    NaN    NaN\n",
              "4  Rashard Anderson   CB  74  206  ...   6.0   Carolina Panthers    1.0   23.0\n",
              "\n",
              "[5 rows x 16 columns]"
            ]
          },
          "metadata": {},
          "execution_count": 3
        }
      ]
    },
    {
      "cell_type": "code",
      "source": [
        "df.info()"
      ],
      "metadata": {
        "colab": {
          "base_uri": "https://localhost:8080/"
        },
        "id": "st_YeobfVC-M",
        "outputId": "53922402-8b88-4ed7-c44e-cd9933e3c61f"
      },
      "execution_count": 4,
      "outputs": [
        {
          "output_type": "stream",
          "name": "stdout",
          "text": [
            "<class 'pandas.core.frame.DataFrame'>\n",
            "RangeIndex: 6218 entries, 0 to 6217\n",
            "Data columns (total 16 columns):\n",
            " #   Column     Non-Null Count  Dtype  \n",
            "---  ------     --------------  -----  \n",
            " 0   Player     6218 non-null   object \n",
            " 1   Pos        6218 non-null   object \n",
            " 2   Ht         6218 non-null   int64  \n",
            " 3   Wt         6218 non-null   int64  \n",
            " 4   Forty      6046 non-null   float64\n",
            " 5   Vertical   4796 non-null   float64\n",
            " 6   BenchReps  4212 non-null   float64\n",
            " 7   BroadJump  4754 non-null   float64\n",
            " 8   Cone       3993 non-null   float64\n",
            " 9   Shuttle    4063 non-null   float64\n",
            " 10  Year       6218 non-null   int64  \n",
            " 11  Pfr_ID     4895 non-null   object \n",
            " 12  AV         6218 non-null   float64\n",
            " 13  Team       3738 non-null   object \n",
            " 14  Round      3738 non-null   float64\n",
            " 15  Pick       3738 non-null   float64\n",
            "dtypes: float64(9), int64(3), object(4)\n",
            "memory usage: 777.4+ KB\n"
          ]
        }
      ]
    },
    {
      "cell_type": "markdown",
      "source": [
        "### Questions and anwsers about data"
      ],
      "metadata": {
        "id": "P0It2jrewA60"
      }
    },
    {
      "cell_type": "markdown",
      "source": [
        "1) Source of data\n",
        "<br>\n",
        "https://www.kaggle.com/savvastj/nfl-combine-data\n",
        "<br><br>\n",
        "2) Brief description of data\n",
        "<br>\n",
        "The data is nfl combine data of how athletes performed and where they got drafted\n",
        "<br><br>\n",
        "3) What is the target?\n",
        "<br>\n",
        "the target will be the round the player got drafted\n",
        "<br><br>\n",
        "4) Is this a classification or regression problem?\n",
        "<br>\n",
        "Technically its a classification problem but I am going to use regression to get close to the round drafted.\n",
        "<br><br>\n",
        "5) How many features?\n",
        "<br>\n",
        "11 features after i drop some of the things that are not needed like team and pfr_id\n",
        "<br><br>\n",
        "6) How many rows of data.\n",
        "<br>\n",
        "6218\n",
        "<br><br>\n",
        "7) What, if any, challenges do your foresee in cleaning, exploring, or modeling with this dataset?\n",
        "<br>\n",
        "just getting a model to perform well. Interesting cleaning process will have to really think about how to fill some values or drop.\n"
      ],
      "metadata": {
        "id": "p8lOIKESYTaE"
      }
    },
    {
      "cell_type": "markdown",
      "source": [
        "###Data Cleaning"
      ],
      "metadata": {
        "id": "udS5DBn8wJV7"
      }
    },
    {
      "cell_type": "code",
      "source": [
        "#dropping unnecesarry rows\n",
        "df.drop(columns=['Player','Pfr_ID','Team','Pick'],inplace=True)"
      ],
      "metadata": {
        "id": "_xqJdMunw1hb"
      },
      "execution_count": 5,
      "outputs": []
    },
    {
      "cell_type": "code",
      "source": [
        "#check for Duplicates\n",
        "df.duplicated().sum()"
      ],
      "metadata": {
        "colab": {
          "base_uri": "https://localhost:8080/"
        },
        "id": "EOqHXbU6xOfq",
        "outputId": "0c4516e9-90e9-40dc-aafc-65875928b52d"
      },
      "execution_count": 6,
      "outputs": [
        {
          "output_type": "execute_result",
          "data": {
            "text/plain": [
              "1"
            ]
          },
          "metadata": {},
          "execution_count": 6
        }
      ]
    },
    {
      "cell_type": "code",
      "source": [
        "#drop duplicates\n",
        "df.drop_duplicates(inplace=True)\n",
        "df.duplicated().sum()"
      ],
      "metadata": {
        "colab": {
          "base_uri": "https://localhost:8080/"
        },
        "id": "aBxmDjo-xWoB",
        "outputId": "69a59b84-e970-440d-f09d-aaf02123cd7e"
      },
      "execution_count": 7,
      "outputs": [
        {
          "output_type": "execute_result",
          "data": {
            "text/plain": [
              "0"
            ]
          },
          "metadata": {},
          "execution_count": 7
        }
      ]
    },
    {
      "cell_type": "code",
      "source": [
        "#missing data going to check each time after i fix to ensure it worked\n",
        "df.isna().sum()"
      ],
      "metadata": {
        "colab": {
          "base_uri": "https://localhost:8080/"
        },
        "id": "dsMmtrLOxqrz",
        "outputId": "ffb2e11f-01bb-4e42-e1f7-6d99e4b6ff84"
      },
      "execution_count": 8,
      "outputs": [
        {
          "output_type": "execute_result",
          "data": {
            "text/plain": [
              "Pos             0\n",
              "Ht              0\n",
              "Wt              0\n",
              "Forty         171\n",
              "Vertical     1421\n",
              "BenchReps    2005\n",
              "BroadJump    1463\n",
              "Cone         2224\n",
              "Shuttle      2154\n",
              "Year            0\n",
              "AV              0\n",
              "Round        2479\n",
              "dtype: int64"
            ]
          },
          "metadata": {},
          "execution_count": 8
        }
      ]
    },
    {
      "cell_type": "code",
      "source": [
        "#drop missing forty times\n",
        "df.dropna(subset=['Forty'],inplace=True)"
      ],
      "metadata": {
        "id": "5iQj1Q0KyFUM"
      },
      "execution_count": 9,
      "outputs": []
    },
    {
      "cell_type": "code",
      "source": [
        "#missing data check\n",
        "df.isna().sum()"
      ],
      "metadata": {
        "colab": {
          "base_uri": "https://localhost:8080/"
        },
        "id": "BrmNsxCE1WnJ",
        "outputId": "e1a9bed2-8a3e-43df-ffa3-05047fc0fc0b"
      },
      "execution_count": 10,
      "outputs": [
        {
          "output_type": "execute_result",
          "data": {
            "text/plain": [
              "Pos             0\n",
              "Ht              0\n",
              "Wt              0\n",
              "Forty           0\n",
              "Vertical     1295\n",
              "BenchReps    1913\n",
              "BroadJump    1334\n",
              "Cone         2078\n",
              "Shuttle      2009\n",
              "Year            0\n",
              "AV              0\n",
              "Round        2358\n",
              "dtype: int64"
            ]
          },
          "metadata": {},
          "execution_count": 10
        }
      ]
    },
    {
      "cell_type": "code",
      "source": [
        "#Fill in Round Undrafted players will be round 8 For classifying purposes\n",
        "#First check value_counts to make sure No weird values\n",
        "df['Round'].value_counts()"
      ],
      "metadata": {
        "colab": {
          "base_uri": "https://localhost:8080/"
        },
        "id": "fqFvOnYTygFi",
        "outputId": "ecf36766-ce20-423e-b7ea-6cae339e9cd4"
      },
      "execution_count": 11,
      "outputs": [
        {
          "output_type": "execute_result",
          "data": {
            "text/plain": [
              "4.0    584\n",
              "3.0    584\n",
              "1.0    560\n",
              "2.0    547\n",
              "5.0    521\n",
              "6.0    450\n",
              "7.0    442\n",
              "Name: Round, dtype: int64"
            ]
          },
          "metadata": {},
          "execution_count": 11
        }
      ]
    },
    {
      "cell_type": "code",
      "source": [
        "df['Round'].fillna(value=8,inplace=True)"
      ],
      "metadata": {
        "id": "3ng6cVyZ1lJB"
      },
      "execution_count": 12,
      "outputs": []
    },
    {
      "cell_type": "code",
      "source": [
        "df['Round'].value_counts()"
      ],
      "metadata": {
        "colab": {
          "base_uri": "https://localhost:8080/"
        },
        "id": "y7n_o3cl1rc_",
        "outputId": "fe33fa93-6ade-44ef-db7b-5e262991422a"
      },
      "execution_count": 13,
      "outputs": [
        {
          "output_type": "execute_result",
          "data": {
            "text/plain": [
              "8.0    2358\n",
              "4.0     584\n",
              "3.0     584\n",
              "1.0     560\n",
              "2.0     547\n",
              "5.0     521\n",
              "6.0     450\n",
              "7.0     442\n",
              "Name: Round, dtype: int64"
            ]
          },
          "metadata": {},
          "execution_count": 13
        }
      ]
    },
    {
      "cell_type": "code",
      "source": [
        "#missing data check\n",
        "df.isna().sum()"
      ],
      "metadata": {
        "colab": {
          "base_uri": "https://localhost:8080/"
        },
        "id": "DwtNUfql1wyI",
        "outputId": "f81fb601-1a0f-44bc-8dc9-4a93cf288110"
      },
      "execution_count": 14,
      "outputs": [
        {
          "output_type": "execute_result",
          "data": {
            "text/plain": [
              "Pos             0\n",
              "Ht              0\n",
              "Wt              0\n",
              "Forty           0\n",
              "Vertical     1295\n",
              "BenchReps    1913\n",
              "BroadJump    1334\n",
              "Cone         2078\n",
              "Shuttle      2009\n",
              "Year            0\n",
              "AV              0\n",
              "Round           0\n",
              "dtype: int64"
            ]
          },
          "metadata": {},
          "execution_count": 14
        }
      ]
    },
    {
      "cell_type": "code",
      "source": [
        "df.describe()"
      ],
      "metadata": {
        "colab": {
          "base_uri": "https://localhost:8080/",
          "height": 300
        },
        "id": "_RnxlQzg5gPQ",
        "outputId": "a802d218-a842-4a0b-c83e-9d8beee98e0f"
      },
      "execution_count": 15,
      "outputs": [
        {
          "output_type": "execute_result",
          "data": {
            "text/html": [
              "\n",
              "  <div id=\"df-82739a03-e53b-49af-bbfb-b33ac6d56c1f\">\n",
              "    <div class=\"colab-df-container\">\n",
              "      <div>\n",
              "<style scoped>\n",
              "    .dataframe tbody tr th:only-of-type {\n",
              "        vertical-align: middle;\n",
              "    }\n",
              "\n",
              "    .dataframe tbody tr th {\n",
              "        vertical-align: top;\n",
              "    }\n",
              "\n",
              "    .dataframe thead th {\n",
              "        text-align: right;\n",
              "    }\n",
              "</style>\n",
              "<table border=\"1\" class=\"dataframe\">\n",
              "  <thead>\n",
              "    <tr style=\"text-align: right;\">\n",
              "      <th></th>\n",
              "      <th>Ht</th>\n",
              "      <th>Wt</th>\n",
              "      <th>Forty</th>\n",
              "      <th>Vertical</th>\n",
              "      <th>BenchReps</th>\n",
              "      <th>BroadJump</th>\n",
              "      <th>Cone</th>\n",
              "      <th>Shuttle</th>\n",
              "      <th>Year</th>\n",
              "      <th>AV</th>\n",
              "      <th>Round</th>\n",
              "    </tr>\n",
              "  </thead>\n",
              "  <tbody>\n",
              "    <tr>\n",
              "      <th>count</th>\n",
              "      <td>6046.00000</td>\n",
              "      <td>6046.000000</td>\n",
              "      <td>6046.000000</td>\n",
              "      <td>4751.000000</td>\n",
              "      <td>4133.000000</td>\n",
              "      <td>4712.000000</td>\n",
              "      <td>3968.000000</td>\n",
              "      <td>4037.000000</td>\n",
              "      <td>6046.000000</td>\n",
              "      <td>6046.000000</td>\n",
              "      <td>6046.000000</td>\n",
              "    </tr>\n",
              "    <tr>\n",
              "      <th>mean</th>\n",
              "      <td>73.79474</td>\n",
              "      <td>243.668707</td>\n",
              "      <td>4.783784</td>\n",
              "      <td>32.819406</td>\n",
              "      <td>20.958142</td>\n",
              "      <td>113.934423</td>\n",
              "      <td>7.283007</td>\n",
              "      <td>4.390647</td>\n",
              "      <td>2008.900265</td>\n",
              "      <td>5.196990</td>\n",
              "      <td>5.458981</td>\n",
              "    </tr>\n",
              "    <tr>\n",
              "      <th>std</th>\n",
              "      <td>2.62577</td>\n",
              "      <td>45.211492</td>\n",
              "      <td>0.305984</td>\n",
              "      <td>4.216011</td>\n",
              "      <td>6.407578</td>\n",
              "      <td>9.330584</td>\n",
              "      <td>0.423341</td>\n",
              "      <td>0.269369</td>\n",
              "      <td>5.379692</td>\n",
              "      <td>7.606366</td>\n",
              "      <td>2.539004</td>\n",
              "    </tr>\n",
              "    <tr>\n",
              "      <th>min</th>\n",
              "      <td>65.00000</td>\n",
              "      <td>149.000000</td>\n",
              "      <td>4.220000</td>\n",
              "      <td>17.500000</td>\n",
              "      <td>2.000000</td>\n",
              "      <td>74.000000</td>\n",
              "      <td>6.280000</td>\n",
              "      <td>3.730000</td>\n",
              "      <td>2000.000000</td>\n",
              "      <td>-4.000000</td>\n",
              "      <td>1.000000</td>\n",
              "    </tr>\n",
              "    <tr>\n",
              "      <th>25%</th>\n",
              "      <td>72.00000</td>\n",
              "      <td>206.000000</td>\n",
              "      <td>4.540000</td>\n",
              "      <td>30.000000</td>\n",
              "      <td>16.000000</td>\n",
              "      <td>108.000000</td>\n",
              "      <td>6.970000</td>\n",
              "      <td>4.190000</td>\n",
              "      <td>2004.000000</td>\n",
              "      <td>0.000000</td>\n",
              "      <td>3.000000</td>\n",
              "    </tr>\n",
              "    <tr>\n",
              "      <th>50%</th>\n",
              "      <td>74.00000</td>\n",
              "      <td>234.000000</td>\n",
              "      <td>4.700000</td>\n",
              "      <td>33.000000</td>\n",
              "      <td>21.000000</td>\n",
              "      <td>115.000000</td>\n",
              "      <td>7.190000</td>\n",
              "      <td>4.350000</td>\n",
              "      <td>2009.000000</td>\n",
              "      <td>1.000000</td>\n",
              "      <td>6.000000</td>\n",
              "    </tr>\n",
              "    <tr>\n",
              "      <th>75%</th>\n",
              "      <td>76.00000</td>\n",
              "      <td>281.750000</td>\n",
              "      <td>4.980000</td>\n",
              "      <td>35.500000</td>\n",
              "      <td>25.000000</td>\n",
              "      <td>121.000000</td>\n",
              "      <td>7.540000</td>\n",
              "      <td>4.560000</td>\n",
              "      <td>2014.000000</td>\n",
              "      <td>8.000000</td>\n",
              "      <td>8.000000</td>\n",
              "    </tr>\n",
              "    <tr>\n",
              "      <th>max</th>\n",
              "      <td>82.00000</td>\n",
              "      <td>375.000000</td>\n",
              "      <td>6.050000</td>\n",
              "      <td>46.000000</td>\n",
              "      <td>49.000000</td>\n",
              "      <td>147.000000</td>\n",
              "      <td>9.120000</td>\n",
              "      <td>5.560000</td>\n",
              "      <td>2018.000000</td>\n",
              "      <td>51.000000</td>\n",
              "      <td>8.000000</td>\n",
              "    </tr>\n",
              "  </tbody>\n",
              "</table>\n",
              "</div>\n",
              "      <button class=\"colab-df-convert\" onclick=\"convertToInteractive('df-82739a03-e53b-49af-bbfb-b33ac6d56c1f')\"\n",
              "              title=\"Convert this dataframe to an interactive table.\"\n",
              "              style=\"display:none;\">\n",
              "        \n",
              "  <svg xmlns=\"http://www.w3.org/2000/svg\" height=\"24px\"viewBox=\"0 0 24 24\"\n",
              "       width=\"24px\">\n",
              "    <path d=\"M0 0h24v24H0V0z\" fill=\"none\"/>\n",
              "    <path d=\"M18.56 5.44l.94 2.06.94-2.06 2.06-.94-2.06-.94-.94-2.06-.94 2.06-2.06.94zm-11 1L8.5 8.5l.94-2.06 2.06-.94-2.06-.94L8.5 2.5l-.94 2.06-2.06.94zm10 10l.94 2.06.94-2.06 2.06-.94-2.06-.94-.94-2.06-.94 2.06-2.06.94z\"/><path d=\"M17.41 7.96l-1.37-1.37c-.4-.4-.92-.59-1.43-.59-.52 0-1.04.2-1.43.59L10.3 9.45l-7.72 7.72c-.78.78-.78 2.05 0 2.83L4 21.41c.39.39.9.59 1.41.59.51 0 1.02-.2 1.41-.59l7.78-7.78 2.81-2.81c.8-.78.8-2.07 0-2.86zM5.41 20L4 18.59l7.72-7.72 1.47 1.35L5.41 20z\"/>\n",
              "  </svg>\n",
              "      </button>\n",
              "      \n",
              "  <style>\n",
              "    .colab-df-container {\n",
              "      display:flex;\n",
              "      flex-wrap:wrap;\n",
              "      gap: 12px;\n",
              "    }\n",
              "\n",
              "    .colab-df-convert {\n",
              "      background-color: #E8F0FE;\n",
              "      border: none;\n",
              "      border-radius: 50%;\n",
              "      cursor: pointer;\n",
              "      display: none;\n",
              "      fill: #1967D2;\n",
              "      height: 32px;\n",
              "      padding: 0 0 0 0;\n",
              "      width: 32px;\n",
              "    }\n",
              "\n",
              "    .colab-df-convert:hover {\n",
              "      background-color: #E2EBFA;\n",
              "      box-shadow: 0px 1px 2px rgba(60, 64, 67, 0.3), 0px 1px 3px 1px rgba(60, 64, 67, 0.15);\n",
              "      fill: #174EA6;\n",
              "    }\n",
              "\n",
              "    [theme=dark] .colab-df-convert {\n",
              "      background-color: #3B4455;\n",
              "      fill: #D2E3FC;\n",
              "    }\n",
              "\n",
              "    [theme=dark] .colab-df-convert:hover {\n",
              "      background-color: #434B5C;\n",
              "      box-shadow: 0px 1px 3px 1px rgba(0, 0, 0, 0.15);\n",
              "      filter: drop-shadow(0px 1px 2px rgba(0, 0, 0, 0.3));\n",
              "      fill: #FFFFFF;\n",
              "    }\n",
              "  </style>\n",
              "\n",
              "      <script>\n",
              "        const buttonEl =\n",
              "          document.querySelector('#df-82739a03-e53b-49af-bbfb-b33ac6d56c1f button.colab-df-convert');\n",
              "        buttonEl.style.display =\n",
              "          google.colab.kernel.accessAllowed ? 'block' : 'none';\n",
              "\n",
              "        async function convertToInteractive(key) {\n",
              "          const element = document.querySelector('#df-82739a03-e53b-49af-bbfb-b33ac6d56c1f');\n",
              "          const dataTable =\n",
              "            await google.colab.kernel.invokeFunction('convertToInteractive',\n",
              "                                                     [key], {});\n",
              "          if (!dataTable) return;\n",
              "\n",
              "          const docLinkHtml = 'Like what you see? Visit the ' +\n",
              "            '<a target=\"_blank\" href=https://colab.research.google.com/notebooks/data_table.ipynb>data table notebook</a>'\n",
              "            + ' to learn more about interactive tables.';\n",
              "          element.innerHTML = '';\n",
              "          dataTable['output_type'] = 'display_data';\n",
              "          await google.colab.output.renderOutput(dataTable, element);\n",
              "          const docLink = document.createElement('div');\n",
              "          docLink.innerHTML = docLinkHtml;\n",
              "          element.appendChild(docLink);\n",
              "        }\n",
              "      </script>\n",
              "    </div>\n",
              "  </div>\n",
              "  "
            ],
            "text/plain": [
              "               Ht           Wt  ...           AV        Round\n",
              "count  6046.00000  6046.000000  ...  6046.000000  6046.000000\n",
              "mean     73.79474   243.668707  ...     5.196990     5.458981\n",
              "std       2.62577    45.211492  ...     7.606366     2.539004\n",
              "min      65.00000   149.000000  ...    -4.000000     1.000000\n",
              "25%      72.00000   206.000000  ...     0.000000     3.000000\n",
              "50%      74.00000   234.000000  ...     1.000000     6.000000\n",
              "75%      76.00000   281.750000  ...     8.000000     8.000000\n",
              "max      82.00000   375.000000  ...    51.000000     8.000000\n",
              "\n",
              "[8 rows x 11 columns]"
            ]
          },
          "metadata": {},
          "execution_count": 15
        }
      ]
    },
    {
      "cell_type": "code",
      "source": [
        "#drop - av values which av is apporximate value\n",
        "av = df['AV'] <0\n",
        "df[av]\n"
      ],
      "metadata": {
        "colab": {
          "base_uri": "https://localhost:8080/",
          "height": 143
        },
        "id": "ipj_SFY4F-1a",
        "outputId": "3554e0cc-7290-40d4-c1f1-9311e8f56354"
      },
      "execution_count": 16,
      "outputs": [
        {
          "output_type": "execute_result",
          "data": {
            "text/html": [
              "\n",
              "  <div id=\"df-73ddf870-fc4a-4af4-a6ed-80c66cfcc7fb\">\n",
              "    <div class=\"colab-df-container\">\n",
              "      <div>\n",
              "<style scoped>\n",
              "    .dataframe tbody tr th:only-of-type {\n",
              "        vertical-align: middle;\n",
              "    }\n",
              "\n",
              "    .dataframe tbody tr th {\n",
              "        vertical-align: top;\n",
              "    }\n",
              "\n",
              "    .dataframe thead th {\n",
              "        text-align: right;\n",
              "    }\n",
              "</style>\n",
              "<table border=\"1\" class=\"dataframe\">\n",
              "  <thead>\n",
              "    <tr style=\"text-align: right;\">\n",
              "      <th></th>\n",
              "      <th>Pos</th>\n",
              "      <th>Ht</th>\n",
              "      <th>Wt</th>\n",
              "      <th>Forty</th>\n",
              "      <th>Vertical</th>\n",
              "      <th>BenchReps</th>\n",
              "      <th>BroadJump</th>\n",
              "      <th>Cone</th>\n",
              "      <th>Shuttle</th>\n",
              "      <th>Year</th>\n",
              "      <th>AV</th>\n",
              "      <th>Round</th>\n",
              "    </tr>\n",
              "  </thead>\n",
              "  <tbody>\n",
              "    <tr>\n",
              "      <th>1138</th>\n",
              "      <td>K</td>\n",
              "      <td>73</td>\n",
              "      <td>195</td>\n",
              "      <td>5.25</td>\n",
              "      <td>NaN</td>\n",
              "      <td>NaN</td>\n",
              "      <td>NaN</td>\n",
              "      <td>NaN</td>\n",
              "      <td>NaN</td>\n",
              "      <td>2003</td>\n",
              "      <td>-1.0</td>\n",
              "      <td>8.0</td>\n",
              "    </tr>\n",
              "    <tr>\n",
              "      <th>4087</th>\n",
              "      <td>QB</td>\n",
              "      <td>76</td>\n",
              "      <td>229</td>\n",
              "      <td>4.86</td>\n",
              "      <td>29.5</td>\n",
              "      <td>NaN</td>\n",
              "      <td>108.0</td>\n",
              "      <td>7.52</td>\n",
              "      <td>4.45</td>\n",
              "      <td>2012</td>\n",
              "      <td>-4.0</td>\n",
              "      <td>6.0</td>\n",
              "    </tr>\n",
              "    <tr>\n",
              "      <th>4931</th>\n",
              "      <td>K</td>\n",
              "      <td>73</td>\n",
              "      <td>236</td>\n",
              "      <td>5.17</td>\n",
              "      <td>NaN</td>\n",
              "      <td>14.0</td>\n",
              "      <td>NaN</td>\n",
              "      <td>NaN</td>\n",
              "      <td>NaN</td>\n",
              "      <td>2015</td>\n",
              "      <td>-2.0</td>\n",
              "      <td>8.0</td>\n",
              "    </tr>\n",
              "  </tbody>\n",
              "</table>\n",
              "</div>\n",
              "      <button class=\"colab-df-convert\" onclick=\"convertToInteractive('df-73ddf870-fc4a-4af4-a6ed-80c66cfcc7fb')\"\n",
              "              title=\"Convert this dataframe to an interactive table.\"\n",
              "              style=\"display:none;\">\n",
              "        \n",
              "  <svg xmlns=\"http://www.w3.org/2000/svg\" height=\"24px\"viewBox=\"0 0 24 24\"\n",
              "       width=\"24px\">\n",
              "    <path d=\"M0 0h24v24H0V0z\" fill=\"none\"/>\n",
              "    <path d=\"M18.56 5.44l.94 2.06.94-2.06 2.06-.94-2.06-.94-.94-2.06-.94 2.06-2.06.94zm-11 1L8.5 8.5l.94-2.06 2.06-.94-2.06-.94L8.5 2.5l-.94 2.06-2.06.94zm10 10l.94 2.06.94-2.06 2.06-.94-2.06-.94-.94-2.06-.94 2.06-2.06.94z\"/><path d=\"M17.41 7.96l-1.37-1.37c-.4-.4-.92-.59-1.43-.59-.52 0-1.04.2-1.43.59L10.3 9.45l-7.72 7.72c-.78.78-.78 2.05 0 2.83L4 21.41c.39.39.9.59 1.41.59.51 0 1.02-.2 1.41-.59l7.78-7.78 2.81-2.81c.8-.78.8-2.07 0-2.86zM5.41 20L4 18.59l7.72-7.72 1.47 1.35L5.41 20z\"/>\n",
              "  </svg>\n",
              "      </button>\n",
              "      \n",
              "  <style>\n",
              "    .colab-df-container {\n",
              "      display:flex;\n",
              "      flex-wrap:wrap;\n",
              "      gap: 12px;\n",
              "    }\n",
              "\n",
              "    .colab-df-convert {\n",
              "      background-color: #E8F0FE;\n",
              "      border: none;\n",
              "      border-radius: 50%;\n",
              "      cursor: pointer;\n",
              "      display: none;\n",
              "      fill: #1967D2;\n",
              "      height: 32px;\n",
              "      padding: 0 0 0 0;\n",
              "      width: 32px;\n",
              "    }\n",
              "\n",
              "    .colab-df-convert:hover {\n",
              "      background-color: #E2EBFA;\n",
              "      box-shadow: 0px 1px 2px rgba(60, 64, 67, 0.3), 0px 1px 3px 1px rgba(60, 64, 67, 0.15);\n",
              "      fill: #174EA6;\n",
              "    }\n",
              "\n",
              "    [theme=dark] .colab-df-convert {\n",
              "      background-color: #3B4455;\n",
              "      fill: #D2E3FC;\n",
              "    }\n",
              "\n",
              "    [theme=dark] .colab-df-convert:hover {\n",
              "      background-color: #434B5C;\n",
              "      box-shadow: 0px 1px 3px 1px rgba(0, 0, 0, 0.15);\n",
              "      filter: drop-shadow(0px 1px 2px rgba(0, 0, 0, 0.3));\n",
              "      fill: #FFFFFF;\n",
              "    }\n",
              "  </style>\n",
              "\n",
              "      <script>\n",
              "        const buttonEl =\n",
              "          document.querySelector('#df-73ddf870-fc4a-4af4-a6ed-80c66cfcc7fb button.colab-df-convert');\n",
              "        buttonEl.style.display =\n",
              "          google.colab.kernel.accessAllowed ? 'block' : 'none';\n",
              "\n",
              "        async function convertToInteractive(key) {\n",
              "          const element = document.querySelector('#df-73ddf870-fc4a-4af4-a6ed-80c66cfcc7fb');\n",
              "          const dataTable =\n",
              "            await google.colab.kernel.invokeFunction('convertToInteractive',\n",
              "                                                     [key], {});\n",
              "          if (!dataTable) return;\n",
              "\n",
              "          const docLinkHtml = 'Like what you see? Visit the ' +\n",
              "            '<a target=\"_blank\" href=https://colab.research.google.com/notebooks/data_table.ipynb>data table notebook</a>'\n",
              "            + ' to learn more about interactive tables.';\n",
              "          element.innerHTML = '';\n",
              "          dataTable['output_type'] = 'display_data';\n",
              "          await google.colab.output.renderOutput(dataTable, element);\n",
              "          const docLink = document.createElement('div');\n",
              "          docLink.innerHTML = docLinkHtml;\n",
              "          element.appendChild(docLink);\n",
              "        }\n",
              "      </script>\n",
              "    </div>\n",
              "  </div>\n",
              "  "
            ],
            "text/plain": [
              "     Pos  Ht   Wt  Forty  Vertical  ...  Cone  Shuttle  Year   AV  Round\n",
              "1138   K  73  195   5.25       NaN  ...   NaN      NaN  2003 -1.0    8.0\n",
              "4087  QB  76  229   4.86      29.5  ...  7.52     4.45  2012 -4.0    6.0\n",
              "4931   K  73  236   5.17       NaN  ...   NaN      NaN  2015 -2.0    8.0\n",
              "\n",
              "[3 rows x 12 columns]"
            ]
          },
          "metadata": {},
          "execution_count": 16
        }
      ]
    },
    {
      "cell_type": "code",
      "source": [
        "df.drop(index=[1138,4087,4931],inplace= True)"
      ],
      "metadata": {
        "id": "UnRel1qKGZXg"
      },
      "execution_count": 17,
      "outputs": []
    },
    {
      "cell_type": "code",
      "source": [
        "#going to impute the rest of the values with mean by round drafted/undrafted with a function"
      ],
      "metadata": {
        "id": "2Kizz-m6110A"
      },
      "execution_count": 18,
      "outputs": []
    },
    {
      "cell_type": "code",
      "source": [
        "rounds = [8,7,6,5,4,3,2,1]\n",
        "def fill_function(col):\n",
        "  for r in rounds:\n",
        "    round_filter = df['Round'] == r\n",
        "    mean = df[round_filter][col].mean()\n",
        "    df.loc[round_filter,col] = df.loc[round_filter,col].fillna(value=mean)\n"
      ],
      "metadata": {
        "id": "3a5fqLbI59p-"
      },
      "execution_count": 19,
      "outputs": []
    },
    {
      "cell_type": "code",
      "source": [
        "fill_function('Vertical')\n",
        "df.isna().sum()"
      ],
      "metadata": {
        "colab": {
          "base_uri": "https://localhost:8080/"
        },
        "id": "bWobyp8ACZsL",
        "outputId": "8ac17ce3-8c91-4f55-9d08-e22fe85144ba"
      },
      "execution_count": 20,
      "outputs": [
        {
          "output_type": "execute_result",
          "data": {
            "text/plain": [
              "Pos             0\n",
              "Ht              0\n",
              "Wt              0\n",
              "Forty           0\n",
              "Vertical        0\n",
              "BenchReps    1911\n",
              "BroadJump    1332\n",
              "Cone         2076\n",
              "Shuttle      2007\n",
              "Year            0\n",
              "AV              0\n",
              "Round           0\n",
              "dtype: int64"
            ]
          },
          "metadata": {},
          "execution_count": 20
        }
      ]
    },
    {
      "cell_type": "code",
      "source": [
        "fill_function('BenchReps')\n",
        "df.isna().sum()"
      ],
      "metadata": {
        "colab": {
          "base_uri": "https://localhost:8080/"
        },
        "id": "DvITvJbICnIi",
        "outputId": "0f417cd7-538e-4aeb-ba93-7a29a86a1d99"
      },
      "execution_count": 21,
      "outputs": [
        {
          "output_type": "execute_result",
          "data": {
            "text/plain": [
              "Pos             0\n",
              "Ht              0\n",
              "Wt              0\n",
              "Forty           0\n",
              "Vertical        0\n",
              "BenchReps       0\n",
              "BroadJump    1332\n",
              "Cone         2076\n",
              "Shuttle      2007\n",
              "Year            0\n",
              "AV              0\n",
              "Round           0\n",
              "dtype: int64"
            ]
          },
          "metadata": {},
          "execution_count": 21
        }
      ]
    },
    {
      "cell_type": "code",
      "source": [
        "fill_function('BroadJump')\n",
        "df.isna().sum()"
      ],
      "metadata": {
        "colab": {
          "base_uri": "https://localhost:8080/"
        },
        "id": "XICflHBxCsJt",
        "outputId": "3841846f-3035-49ff-c674-7cf425719afd"
      },
      "execution_count": 22,
      "outputs": [
        {
          "output_type": "execute_result",
          "data": {
            "text/plain": [
              "Pos             0\n",
              "Ht              0\n",
              "Wt              0\n",
              "Forty           0\n",
              "Vertical        0\n",
              "BenchReps       0\n",
              "BroadJump       0\n",
              "Cone         2076\n",
              "Shuttle      2007\n",
              "Year            0\n",
              "AV              0\n",
              "Round           0\n",
              "dtype: int64"
            ]
          },
          "metadata": {},
          "execution_count": 22
        }
      ]
    },
    {
      "cell_type": "code",
      "source": [
        "fill_function('Cone')\n",
        "df.isna().sum()"
      ],
      "metadata": {
        "colab": {
          "base_uri": "https://localhost:8080/"
        },
        "id": "sAqVkNEiCzNr",
        "outputId": "00eef913-6d9f-4c31-d28c-ed7594794c29"
      },
      "execution_count": 23,
      "outputs": [
        {
          "output_type": "execute_result",
          "data": {
            "text/plain": [
              "Pos             0\n",
              "Ht              0\n",
              "Wt              0\n",
              "Forty           0\n",
              "Vertical        0\n",
              "BenchReps       0\n",
              "BroadJump       0\n",
              "Cone            0\n",
              "Shuttle      2007\n",
              "Year            0\n",
              "AV              0\n",
              "Round           0\n",
              "dtype: int64"
            ]
          },
          "metadata": {},
          "execution_count": 23
        }
      ]
    },
    {
      "cell_type": "code",
      "source": [
        "fill_function('Shuttle')\n",
        "df.isna().sum()\n",
        "#The reason i did it in seperate code block satisfying to see it fill !!!!"
      ],
      "metadata": {
        "colab": {
          "base_uri": "https://localhost:8080/"
        },
        "id": "9_sCyXnSC1Gw",
        "outputId": "b842c482-6ca3-42ee-d468-ffe591c937ae"
      },
      "execution_count": 24,
      "outputs": [
        {
          "output_type": "execute_result",
          "data": {
            "text/plain": [
              "Pos          0\n",
              "Ht           0\n",
              "Wt           0\n",
              "Forty        0\n",
              "Vertical     0\n",
              "BenchReps    0\n",
              "BroadJump    0\n",
              "Cone         0\n",
              "Shuttle      0\n",
              "Year         0\n",
              "AV           0\n",
              "Round        0\n",
              "dtype: int64"
            ]
          },
          "metadata": {},
          "execution_count": 24
        }
      ]
    },
    {
      "cell_type": "markdown",
      "source": [
        "#Value Counts for one object"
      ],
      "metadata": {
        "id": "ZBxce-8rDGZ3"
      }
    },
    {
      "cell_type": "code",
      "source": [
        "df.info()"
      ],
      "metadata": {
        "colab": {
          "base_uri": "https://localhost:8080/"
        },
        "id": "YjosbyPSD0GQ",
        "outputId": "2ede8029-9540-4ba9-aefe-c06c2d2022a7"
      },
      "execution_count": 25,
      "outputs": [
        {
          "output_type": "stream",
          "name": "stdout",
          "text": [
            "<class 'pandas.core.frame.DataFrame'>\n",
            "Int64Index: 6043 entries, 0 to 6217\n",
            "Data columns (total 12 columns):\n",
            " #   Column     Non-Null Count  Dtype  \n",
            "---  ------     --------------  -----  \n",
            " 0   Pos        6043 non-null   object \n",
            " 1   Ht         6043 non-null   int64  \n",
            " 2   Wt         6043 non-null   int64  \n",
            " 3   Forty      6043 non-null   float64\n",
            " 4   Vertical   6043 non-null   float64\n",
            " 5   BenchReps  6043 non-null   float64\n",
            " 6   BroadJump  6043 non-null   float64\n",
            " 7   Cone       6043 non-null   float64\n",
            " 8   Shuttle    6043 non-null   float64\n",
            " 9   Year       6043 non-null   int64  \n",
            " 10  AV         6043 non-null   float64\n",
            " 11  Round      6043 non-null   float64\n",
            "dtypes: float64(8), int64(3), object(1)\n",
            "memory usage: 613.7+ KB\n"
          ]
        }
      ]
    },
    {
      "cell_type": "code",
      "source": [
        "df['Pos'].value_counts()"
      ],
      "metadata": {
        "colab": {
          "base_uri": "https://localhost:8080/"
        },
        "id": "bVcxEfoCDXnM",
        "outputId": "8c02e7f5-8659-4b75-e3c0-db4266e303be"
      },
      "execution_count": 26,
      "outputs": [
        {
          "output_type": "execute_result",
          "data": {
            "text/plain": [
              "WR      842\n",
              "CB      623\n",
              "RB      531\n",
              "DE      479\n",
              "DT      453\n",
              "OT      449\n",
              "OLB     422\n",
              "OG      365\n",
              "QB      342\n",
              "TE      326\n",
              "ILB     265\n",
              "FS      225\n",
              "SS      207\n",
              "C       166\n",
              "FB      116\n",
              "P        95\n",
              "K        59\n",
              "LS       20\n",
              "S        20\n",
              "EDGE     19\n",
              "G        12\n",
              "NT        3\n",
              "LB        2\n",
              "DB        1\n",
              "OL        1\n",
              "Name: Pos, dtype: int64"
            ]
          },
          "metadata": {},
          "execution_count": 26
        }
      ]
    },
    {
      "cell_type": "code",
      "source": [
        "#fix inconsistent naming"
      ],
      "metadata": {
        "id": "9xiU8BvPEhtA"
      },
      "execution_count": 27,
      "outputs": []
    },
    {
      "cell_type": "code",
      "source": [
        "df['Pos'].replace({'DB':'CB','LB':'ILB','NT':'DT','G':'OG','EDGE':'DE','S':'SS'},inplace=True)"
      ],
      "metadata": {
        "id": "Tw25SE2TDyjE"
      },
      "execution_count": 28,
      "outputs": []
    },
    {
      "cell_type": "code",
      "source": [
        "#undrafted player just going to drop\n",
        "ol = df.loc[:,'Pos']=='OL'\n",
        "df[ol]"
      ],
      "metadata": {
        "colab": {
          "base_uri": "https://localhost:8080/",
          "height": 81
        },
        "id": "6lPWBZ0qE6Q2",
        "outputId": "5223763c-86e8-4b6e-c391-949c1627205d"
      },
      "execution_count": 29,
      "outputs": [
        {
          "output_type": "execute_result",
          "data": {
            "text/html": [
              "\n",
              "  <div id=\"df-13e28c33-1087-4dab-b64b-611d45bde68f\">\n",
              "    <div class=\"colab-df-container\">\n",
              "      <div>\n",
              "<style scoped>\n",
              "    .dataframe tbody tr th:only-of-type {\n",
              "        vertical-align: middle;\n",
              "    }\n",
              "\n",
              "    .dataframe tbody tr th {\n",
              "        vertical-align: top;\n",
              "    }\n",
              "\n",
              "    .dataframe thead th {\n",
              "        text-align: right;\n",
              "    }\n",
              "</style>\n",
              "<table border=\"1\" class=\"dataframe\">\n",
              "  <thead>\n",
              "    <tr style=\"text-align: right;\">\n",
              "      <th></th>\n",
              "      <th>Pos</th>\n",
              "      <th>Ht</th>\n",
              "      <th>Wt</th>\n",
              "      <th>Forty</th>\n",
              "      <th>Vertical</th>\n",
              "      <th>BenchReps</th>\n",
              "      <th>BroadJump</th>\n",
              "      <th>Cone</th>\n",
              "      <th>Shuttle</th>\n",
              "      <th>Year</th>\n",
              "      <th>AV</th>\n",
              "      <th>Round</th>\n",
              "    </tr>\n",
              "  </thead>\n",
              "  <tbody>\n",
              "    <tr>\n",
              "      <th>6070</th>\n",
              "      <td>OL</td>\n",
              "      <td>77</td>\n",
              "      <td>308</td>\n",
              "      <td>5.33</td>\n",
              "      <td>28.5</td>\n",
              "      <td>26.0</td>\n",
              "      <td>97.0</td>\n",
              "      <td>7.86</td>\n",
              "      <td>4.88</td>\n",
              "      <td>2018</td>\n",
              "      <td>0.0</td>\n",
              "      <td>8.0</td>\n",
              "    </tr>\n",
              "  </tbody>\n",
              "</table>\n",
              "</div>\n",
              "      <button class=\"colab-df-convert\" onclick=\"convertToInteractive('df-13e28c33-1087-4dab-b64b-611d45bde68f')\"\n",
              "              title=\"Convert this dataframe to an interactive table.\"\n",
              "              style=\"display:none;\">\n",
              "        \n",
              "  <svg xmlns=\"http://www.w3.org/2000/svg\" height=\"24px\"viewBox=\"0 0 24 24\"\n",
              "       width=\"24px\">\n",
              "    <path d=\"M0 0h24v24H0V0z\" fill=\"none\"/>\n",
              "    <path d=\"M18.56 5.44l.94 2.06.94-2.06 2.06-.94-2.06-.94-.94-2.06-.94 2.06-2.06.94zm-11 1L8.5 8.5l.94-2.06 2.06-.94-2.06-.94L8.5 2.5l-.94 2.06-2.06.94zm10 10l.94 2.06.94-2.06 2.06-.94-2.06-.94-.94-2.06-.94 2.06-2.06.94z\"/><path d=\"M17.41 7.96l-1.37-1.37c-.4-.4-.92-.59-1.43-.59-.52 0-1.04.2-1.43.59L10.3 9.45l-7.72 7.72c-.78.78-.78 2.05 0 2.83L4 21.41c.39.39.9.59 1.41.59.51 0 1.02-.2 1.41-.59l7.78-7.78 2.81-2.81c.8-.78.8-2.07 0-2.86zM5.41 20L4 18.59l7.72-7.72 1.47 1.35L5.41 20z\"/>\n",
              "  </svg>\n",
              "      </button>\n",
              "      \n",
              "  <style>\n",
              "    .colab-df-container {\n",
              "      display:flex;\n",
              "      flex-wrap:wrap;\n",
              "      gap: 12px;\n",
              "    }\n",
              "\n",
              "    .colab-df-convert {\n",
              "      background-color: #E8F0FE;\n",
              "      border: none;\n",
              "      border-radius: 50%;\n",
              "      cursor: pointer;\n",
              "      display: none;\n",
              "      fill: #1967D2;\n",
              "      height: 32px;\n",
              "      padding: 0 0 0 0;\n",
              "      width: 32px;\n",
              "    }\n",
              "\n",
              "    .colab-df-convert:hover {\n",
              "      background-color: #E2EBFA;\n",
              "      box-shadow: 0px 1px 2px rgba(60, 64, 67, 0.3), 0px 1px 3px 1px rgba(60, 64, 67, 0.15);\n",
              "      fill: #174EA6;\n",
              "    }\n",
              "\n",
              "    [theme=dark] .colab-df-convert {\n",
              "      background-color: #3B4455;\n",
              "      fill: #D2E3FC;\n",
              "    }\n",
              "\n",
              "    [theme=dark] .colab-df-convert:hover {\n",
              "      background-color: #434B5C;\n",
              "      box-shadow: 0px 1px 3px 1px rgba(0, 0, 0, 0.15);\n",
              "      filter: drop-shadow(0px 1px 2px rgba(0, 0, 0, 0.3));\n",
              "      fill: #FFFFFF;\n",
              "    }\n",
              "  </style>\n",
              "\n",
              "      <script>\n",
              "        const buttonEl =\n",
              "          document.querySelector('#df-13e28c33-1087-4dab-b64b-611d45bde68f button.colab-df-convert');\n",
              "        buttonEl.style.display =\n",
              "          google.colab.kernel.accessAllowed ? 'block' : 'none';\n",
              "\n",
              "        async function convertToInteractive(key) {\n",
              "          const element = document.querySelector('#df-13e28c33-1087-4dab-b64b-611d45bde68f');\n",
              "          const dataTable =\n",
              "            await google.colab.kernel.invokeFunction('convertToInteractive',\n",
              "                                                     [key], {});\n",
              "          if (!dataTable) return;\n",
              "\n",
              "          const docLinkHtml = 'Like what you see? Visit the ' +\n",
              "            '<a target=\"_blank\" href=https://colab.research.google.com/notebooks/data_table.ipynb>data table notebook</a>'\n",
              "            + ' to learn more about interactive tables.';\n",
              "          element.innerHTML = '';\n",
              "          dataTable['output_type'] = 'display_data';\n",
              "          await google.colab.output.renderOutput(dataTable, element);\n",
              "          const docLink = document.createElement('div');\n",
              "          docLink.innerHTML = docLinkHtml;\n",
              "          element.appendChild(docLink);\n",
              "        }\n",
              "      </script>\n",
              "    </div>\n",
              "  </div>\n",
              "  "
            ],
            "text/plain": [
              "     Pos  Ht   Wt  Forty  Vertical  ...  Cone  Shuttle  Year   AV  Round\n",
              "6070  OL  77  308   5.33      28.5  ...  7.86     4.88  2018  0.0    8.0\n",
              "\n",
              "[1 rows x 12 columns]"
            ]
          },
          "metadata": {},
          "execution_count": 29
        }
      ]
    },
    {
      "cell_type": "code",
      "source": [
        "df.drop(index=6070,inplace=True)"
      ],
      "metadata": {
        "id": "78T1guYYFbqx"
      },
      "execution_count": 30,
      "outputs": []
    },
    {
      "cell_type": "code",
      "source": [
        "ol = df.loc[:,'Pos']=='OL'\n",
        "df[ol]"
      ],
      "metadata": {
        "colab": {
          "base_uri": "https://localhost:8080/",
          "height": 49
        },
        "id": "7heEj3eeF8MM",
        "outputId": "47a2508d-3bab-4ff7-a1b6-ac557a6b601f"
      },
      "execution_count": 31,
      "outputs": [
        {
          "output_type": "execute_result",
          "data": {
            "text/html": [
              "\n",
              "  <div id=\"df-b103494d-6505-4c5a-ac4a-8fd489f520d8\">\n",
              "    <div class=\"colab-df-container\">\n",
              "      <div>\n",
              "<style scoped>\n",
              "    .dataframe tbody tr th:only-of-type {\n",
              "        vertical-align: middle;\n",
              "    }\n",
              "\n",
              "    .dataframe tbody tr th {\n",
              "        vertical-align: top;\n",
              "    }\n",
              "\n",
              "    .dataframe thead th {\n",
              "        text-align: right;\n",
              "    }\n",
              "</style>\n",
              "<table border=\"1\" class=\"dataframe\">\n",
              "  <thead>\n",
              "    <tr style=\"text-align: right;\">\n",
              "      <th></th>\n",
              "      <th>Pos</th>\n",
              "      <th>Ht</th>\n",
              "      <th>Wt</th>\n",
              "      <th>Forty</th>\n",
              "      <th>Vertical</th>\n",
              "      <th>BenchReps</th>\n",
              "      <th>BroadJump</th>\n",
              "      <th>Cone</th>\n",
              "      <th>Shuttle</th>\n",
              "      <th>Year</th>\n",
              "      <th>AV</th>\n",
              "      <th>Round</th>\n",
              "    </tr>\n",
              "  </thead>\n",
              "  <tbody>\n",
              "  </tbody>\n",
              "</table>\n",
              "</div>\n",
              "      <button class=\"colab-df-convert\" onclick=\"convertToInteractive('df-b103494d-6505-4c5a-ac4a-8fd489f520d8')\"\n",
              "              title=\"Convert this dataframe to an interactive table.\"\n",
              "              style=\"display:none;\">\n",
              "        \n",
              "  <svg xmlns=\"http://www.w3.org/2000/svg\" height=\"24px\"viewBox=\"0 0 24 24\"\n",
              "       width=\"24px\">\n",
              "    <path d=\"M0 0h24v24H0V0z\" fill=\"none\"/>\n",
              "    <path d=\"M18.56 5.44l.94 2.06.94-2.06 2.06-.94-2.06-.94-.94-2.06-.94 2.06-2.06.94zm-11 1L8.5 8.5l.94-2.06 2.06-.94-2.06-.94L8.5 2.5l-.94 2.06-2.06.94zm10 10l.94 2.06.94-2.06 2.06-.94-2.06-.94-.94-2.06-.94 2.06-2.06.94z\"/><path d=\"M17.41 7.96l-1.37-1.37c-.4-.4-.92-.59-1.43-.59-.52 0-1.04.2-1.43.59L10.3 9.45l-7.72 7.72c-.78.78-.78 2.05 0 2.83L4 21.41c.39.39.9.59 1.41.59.51 0 1.02-.2 1.41-.59l7.78-7.78 2.81-2.81c.8-.78.8-2.07 0-2.86zM5.41 20L4 18.59l7.72-7.72 1.47 1.35L5.41 20z\"/>\n",
              "  </svg>\n",
              "      </button>\n",
              "      \n",
              "  <style>\n",
              "    .colab-df-container {\n",
              "      display:flex;\n",
              "      flex-wrap:wrap;\n",
              "      gap: 12px;\n",
              "    }\n",
              "\n",
              "    .colab-df-convert {\n",
              "      background-color: #E8F0FE;\n",
              "      border: none;\n",
              "      border-radius: 50%;\n",
              "      cursor: pointer;\n",
              "      display: none;\n",
              "      fill: #1967D2;\n",
              "      height: 32px;\n",
              "      padding: 0 0 0 0;\n",
              "      width: 32px;\n",
              "    }\n",
              "\n",
              "    .colab-df-convert:hover {\n",
              "      background-color: #E2EBFA;\n",
              "      box-shadow: 0px 1px 2px rgba(60, 64, 67, 0.3), 0px 1px 3px 1px rgba(60, 64, 67, 0.15);\n",
              "      fill: #174EA6;\n",
              "    }\n",
              "\n",
              "    [theme=dark] .colab-df-convert {\n",
              "      background-color: #3B4455;\n",
              "      fill: #D2E3FC;\n",
              "    }\n",
              "\n",
              "    [theme=dark] .colab-df-convert:hover {\n",
              "      background-color: #434B5C;\n",
              "      box-shadow: 0px 1px 3px 1px rgba(0, 0, 0, 0.15);\n",
              "      filter: drop-shadow(0px 1px 2px rgba(0, 0, 0, 0.3));\n",
              "      fill: #FFFFFF;\n",
              "    }\n",
              "  </style>\n",
              "\n",
              "      <script>\n",
              "        const buttonEl =\n",
              "          document.querySelector('#df-b103494d-6505-4c5a-ac4a-8fd489f520d8 button.colab-df-convert');\n",
              "        buttonEl.style.display =\n",
              "          google.colab.kernel.accessAllowed ? 'block' : 'none';\n",
              "\n",
              "        async function convertToInteractive(key) {\n",
              "          const element = document.querySelector('#df-b103494d-6505-4c5a-ac4a-8fd489f520d8');\n",
              "          const dataTable =\n",
              "            await google.colab.kernel.invokeFunction('convertToInteractive',\n",
              "                                                     [key], {});\n",
              "          if (!dataTable) return;\n",
              "\n",
              "          const docLinkHtml = 'Like what you see? Visit the ' +\n",
              "            '<a target=\"_blank\" href=https://colab.research.google.com/notebooks/data_table.ipynb>data table notebook</a>'\n",
              "            + ' to learn more about interactive tables.';\n",
              "          element.innerHTML = '';\n",
              "          dataTable['output_type'] = 'display_data';\n",
              "          await google.colab.output.renderOutput(dataTable, element);\n",
              "          const docLink = document.createElement('div');\n",
              "          docLink.innerHTML = docLinkHtml;\n",
              "          element.appendChild(docLink);\n",
              "        }\n",
              "      </script>\n",
              "    </div>\n",
              "  </div>\n",
              "  "
            ],
            "text/plain": [
              "Empty DataFrame\n",
              "Columns: [Pos, Ht, Wt, Forty, Vertical, BenchReps, BroadJump, Cone, Shuttle, Year, AV, Round]\n",
              "Index: []"
            ]
          },
          "metadata": {},
          "execution_count": 31
        }
      ]
    },
    {
      "cell_type": "code",
      "source": [
        "df['Pos'].value_counts()"
      ],
      "metadata": {
        "colab": {
          "base_uri": "https://localhost:8080/"
        },
        "id": "cgU4dYcAG9gw",
        "outputId": "479c6e22-d89e-40ea-b0ca-f45e342bbef7"
      },
      "execution_count": 32,
      "outputs": [
        {
          "output_type": "execute_result",
          "data": {
            "text/plain": [
              "WR     842\n",
              "CB     624\n",
              "RB     531\n",
              "DE     498\n",
              "DT     456\n",
              "OT     449\n",
              "OLB    422\n",
              "OG     377\n",
              "QB     342\n",
              "TE     326\n",
              "ILB    267\n",
              "SS     227\n",
              "FS     225\n",
              "C      166\n",
              "FB     116\n",
              "P       95\n",
              "K       59\n",
              "LS      20\n",
              "Name: Pos, dtype: int64"
            ]
          },
          "metadata": {},
          "execution_count": 32
        }
      ]
    },
    {
      "cell_type": "markdown",
      "source": [
        "#Exploring Data"
      ],
      "metadata": {
        "id": "-vVmD-khHS3o"
      }
    },
    {
      "cell_type": "code",
      "source": [
        "fig = plt.figure(figsize = (15,10))\n",
        "ax = fig.gca()\n",
        "df.hist(ax = ax);\n",
        "plt.savefig('hists.png')\n",
        "#files.download('hists.png')\n",
        "#Plot hists on the numeric rows"
      ],
      "metadata": {
        "colab": {
          "base_uri": "https://localhost:8080/",
          "height": 642
        },
        "id": "Ldq7Ay2THdw5",
        "outputId": "64685748-5bd9-49b5-df06-01557b90ec06"
      },
      "execution_count": 33,
      "outputs": [
        {
          "output_type": "stream",
          "name": "stderr",
          "text": [
            "/usr/local/lib/python3.7/dist-packages/ipykernel_launcher.py:3: UserWarning: To output multiple subplots, the figure containing the passed axes is being cleared\n",
            "  This is separate from the ipykernel package so we can avoid doing imports until\n"
          ]
        },
        {
          "output_type": "display_data",
          "data": {
            "image/png": "[encoded data removed]",
            "text/plain": [
              "<Figure size 1080x720 with 12 Axes>"
            ]
          },
          "metadata": {
            "needs_background": "light"
          }
        }
      ]
    },
    {
      "cell_type": "code",
      "source": [
        "df.columns"
      ],
      "metadata": {
        "colab": {
          "base_uri": "https://localhost:8080/"
        },
        "id": "TDqR8W6AMM8b",
        "outputId": "70e459a0-ecf9-4bbd-9eba-c6a8419a07f1"
      },
      "execution_count": 34,
      "outputs": [
        {
          "output_type": "execute_result",
          "data": {
            "text/plain": [
              "Index(['Pos', 'Ht', 'Wt', 'Forty', 'Vertical', 'BenchReps', 'BroadJump',\n",
              "       'Cone', 'Shuttle', 'Year', 'AV', 'Round'],\n",
              "      dtype='object')"
            ]
          },
          "metadata": {},
          "execution_count": 34
        }
      ]
    },
    {
      "cell_type": "code",
      "source": [
        "#boxPlots On numeric columns besides year av or round\n",
        "plt.boxplot(df['Ht']);\n",
        "plt.title('Ht')\n",
        "plt.show()\n",
        "plt.boxplot(df['Wt']);\n",
        "plt.title('Wt')\n",
        "plt.show()\n",
        "plt.boxplot(df['Forty']);\n",
        "plt.title('Forty')\n",
        "plt.show()\n",
        "plt.boxplot(df['Vertical']);\n",
        "plt.title('Vertical')\n",
        "plt.show()\n",
        "plt.boxplot(df['BenchReps']);\n",
        "plt.title('BenchReps')\n",
        "plt.show()\n",
        "plt.boxplot(df['BroadJump']);\n",
        "plt.title('BroadJump')\n",
        "plt.show()\n",
        "plt.boxplot(df['Cone']);\n",
        "plt.title('Cone')\n",
        "plt.show()\n",
        "plt.boxplot(df['Shuttle']);\n",
        "plt.title('Shuttle')\n",
        "plt.show()"
      ],
      "metadata": {
        "colab": {
          "base_uri": "https://localhost:8080/",
          "height": 1000
        },
        "id": "YCOnxIPYIVYc",
        "outputId": "b132b167-279c-4c84-9a39-7da79dda96a2"
      },
      "execution_count": 35,
      "outputs": [
        {
          "output_type": "display_data",
          "data": {
            "image/png": "[encoded data removed]",
            "text/plain": [
              "<Figure size 432x288 with 1 Axes>"
            ]
          },
          "metadata": {
            "needs_background": "light"
          }
        },
        {
          "output_type": "display_data",
          "data": {
            "image/png": "[encoded data removed]",
            "text/plain": [
              "<Figure size 432x288 with 1 Axes>"
            ]
          },
          "metadata": {
            "needs_background": "light"
          }
        },
        {
          "output_type": "display_data",
          "data": {
            "image/png": "[encoded data removed]",
            "text/plain": [
              "<Figure size 432x288 with 1 Axes>"
            ]
          },
          "metadata": {
            "needs_background": "light"
          }
        },
        {
          "output_type": "display_data",
          "data": {
            "image/png": "[encoded data removed]",
            "text/plain": [
              "<Figure size 432x288 with 1 Axes>"
            ]
          },
          "metadata": {
            "needs_background": "light"
          }
        },
        {
          "output_type": "display_data",
          "data": {
            "image/png": "[encoded data removed]",
            "text/plain": [
              "<Figure size 432x288 with 1 Axes>"
            ]
          },
          "metadata": {
            "needs_background": "light"
          }
        },
        {
          "output_type": "display_data",
          "data": {
            "image/png": "[encoded data removed]",
            "text/plain": [
              "<Figure size 432x288 with 1 Axes>"
            ]
          },
          "metadata": {
            "needs_background": "light"
          }
        },
        {
          "output_type": "display_data",
          "data": {
            "image/png": "[encoded data removed]",
            "text/plain": [
              "<Figure size 432x288 with 1 Axes>"
            ]
          },
          "metadata": {
            "needs_background": "light"
          }
        },
        {
          "output_type": "display_data",
          "data": {
            "image/png": "[encoded data removed]",
            "text/plain": [
              "<Figure size 432x288 with 1 Axes>"
            ]
          },
          "metadata": {
            "needs_background": "light"
          }
        }
      ]
    },
    {
      "cell_type": "code",
      "source": [
        "#There are a few Outliers in 40 yard dash some slower times"
      ],
      "metadata": {
        "id": "5dOW7pHzLwiF"
      },
      "execution_count": 36,
      "outputs": []
    },
    {
      "cell_type": "code",
      "source": [
        "fig = plt.figure(figsize = (15,15))\n",
        "ax = fig.gca()\n",
        "sns.heatmap(df.corr(),cmap='Reds',annot=True, ax=ax)"
      ],
      "metadata": {
        "colab": {
          "base_uri": "https://localhost:8080/",
          "height": 885
        },
        "id": "iZp0nfppM9ga",
        "outputId": "be5379c5-7e5a-4b52-f072-e08e5c11e5d0"
      },
      "execution_count": 37,
      "outputs": [
        {
          "output_type": "execute_result",
          "data": {
            "text/plain": [
              "<matplotlib.axes._subplots.AxesSubplot at 0x7fcb41921310>"
            ]
          },
          "metadata": {},
          "execution_count": 37
        },
        {
          "output_type": "display_data",
          "data": {
            "image/png": "[encoded data removed]",
            "text/plain": [
              "<Figure size 1080x1080 with 2 Axes>"
            ]
          },
          "metadata": {
            "needs_background": "light"
          }
        }
      ]
    },
    {
      "cell_type": "code",
      "source": [
        "#Av is negatively correlated to my Target of Round\n",
        "#Forty Postively COrrelated to ht and wt\n",
        "#Cone and Shuttle Postively Correlated to Eachtoher and Ht Wt Forty"
      ],
      "metadata": {
        "id": "n8dw7vgYOKTg"
      },
      "execution_count": 38,
      "outputs": []
    },
    {
      "cell_type": "code",
      "source": [
        "av_mean_per_round = []\n",
        "for r in rounds:\n",
        "  round_filter = df['Round'] == r\n",
        "  av_mean_per_round.append(df[round_filter]['AV'].mean())"
      ],
      "metadata": {
        "id": "VhkkbcA6H0ms"
      },
      "execution_count": 39,
      "outputs": []
    },
    {
      "cell_type": "code",
      "source": [
        "plt.figure(figsize=(8,8))\n",
        "plt.bar(rounds,av_mean_per_round,\n",
        "         color='saddlebrown',\n",
        "         edgecolor='green')\n",
        "plt.grid(color='grey',axis='y')\n",
        "plt.xlim(8.5,0.5)\n",
        "plt.xlabel('Round drafted',fontsize=16)\n",
        "plt.ylabel('Approximate Value',fontsize=16)\n",
        "plt.xticks(fontsize=14)\n",
        "plt.yticks(fontsize=14)\n",
        "plt.title('Av per Round drafted', fontsize=18)\n",
        "plt.savefig('avround.png')\n",
        "#files.download('avround.png');"
      ],
      "metadata": {
        "colab": {
          "base_uri": "https://localhost:8080/",
          "height": 526
        },
        "id": "Vw_AHQQDGo9X",
        "outputId": "e4dff14b-abf1-456d-d353-6f51f12642a8"
      },
      "execution_count": 40,
      "outputs": [
        {
          "output_type": "display_data",
          "data": {
            "image/png": "[encoded data removed]",
            "text/plain": [
              "<Figure size 576x576 with 1 Axes>"
            ]
          },
          "metadata": {
            "needs_background": "light"
          }
        }
      ]
    },
    {
      "cell_type": "code",
      "source": [
        "#filter for certain positions to plot\n",
        "pos_filter = (df['Pos']=='CB') | (df['Pos'] =='WR') | (df['Pos'] =='RB') | (df['Pos'] =='TE') | (df['Pos'] =='FS') | (df['Pos'] =='QB') | (df['Pos'] =='SS')\n",
        "pos_df = df[pos_filter]"
      ],
      "metadata": {
        "id": "UW896cNBV87z"
      },
      "execution_count": 41,
      "outputs": []
    },
    {
      "cell_type": "code",
      "source": [
        "#plot of 40 time mean per round drafted\n",
        "with plt.style.context('Solarize_Light2'):\n",
        "\n",
        "  pos_df.groupby([\"Round\",'Pos'])[\"Forty\"].mean().unstack().plot(figsize=(8,8))\n",
        "  plt.xlim(8,1)\n",
        "  plt.xlabel('Round drafted', color='k', fontsize=14)\n",
        "  plt.ylabel('time in seconds', color='k', fontsize=14)\n",
        "  plt.title('40 Time average per Round drafted',fontsize = 16)\n",
        "  plt.xticks(fontsize=12, color='k')\n",
        "  plt.yticks(fontsize=12, color='k')\n",
        "  plt.grid(axis='y',color='white',alpha=1);\n",
        "  plt.tight_layout()\n",
        "\n",
        "plt.savefig('40_mean_per_round.png')\n",
        "files.download('40_mean_per_round.png')"
      ],
      "metadata": {
        "id": "d-brULEEjUTp",
        "colab": {
          "base_uri": "https://localhost:8080/",
          "height": 585
        },
        "outputId": "9f18e89e-cdd1-4bad-e27f-fbce0a252ef8"
      },
      "execution_count": 85,
      "outputs": [
        {
          "output_type": "display_data",
          "data": {
            "application/javascript": [
              "\n",
              "    async function download(id, filename, size) {\n",
              "      if (!google.colab.kernel.accessAllowed) {\n",
              "        return;\n",
              "      }\n",
              "      const div = document.createElement('div');\n",
              "      const label = document.createElement('label');\n",
              "      label.textContent = `Downloading \"${filename}\": `;\n",
              "      div.appendChild(label);\n",
              "      const progress = document.createElement('progress');\n",
              "      progress.max = size;\n",
              "      div.appendChild(progress);\n",
              "      document.body.appendChild(div);\n",
              "\n",
              "      const buffers = [];\n",
              "      let downloaded = 0;\n",
              "\n",
              "      const channel = await google.colab.kernel.comms.open(id);\n",
              "      // Send a message to notify the kernel that we're ready.\n",
              "      channel.send({})\n",
              "\n",
              "      for await (const message of channel.messages) {\n",
              "        // Send a message to notify the kernel that we're ready.\n",
              "        channel.send({})\n",
              "        if (message.buffers) {\n",
              "          for (const buffer of message.buffers) {\n",
              "            buffers.push(buffer);\n",
              "            downloaded += buffer.byteLength;\n",
              "            progress.value = downloaded;\n",
              "          }\n",
              "        }\n",
              "      }\n",
              "      const blob = new Blob(buffers, {type: 'application/binary'});\n",
              "      const a = document.createElement('a');\n",
              "      a.href = window.URL.createObjectURL(blob);\n",
              "      a.download = filename;\n",
              "      div.appendChild(a);\n",
              "      a.click();\n",
              "      div.remove();\n",
              "    }\n",
              "  "
            ],
            "text/plain": [
              "<IPython.core.display.Javascript object>"
            ]
          },
          "metadata": {}
        },
        {
          "output_type": "display_data",
          "data": {
            "application/javascript": [
              "download(\"download_77274563-b6e1-42df-a08f-aeedac55645f\", \"40_mean_per_round.png\", 56743)"
            ],
            "text/plain": [
              "<IPython.core.display.Javascript object>"
            ]
          },
          "metadata": {}
        },
        {
          "output_type": "display_data",
          "data": {
            "image/png": "[encoded data removed]",
            "text/plain": [
              "<Figure size 576x576 with 1 Axes>"
            ]
          },
          "metadata": {}
        }
      ]
    },
    {
      "cell_type": "code",
      "source": [
        "def eval_model(true, pred):\n",
        "  mse = mean_squared_error(true, pred)\n",
        "  rmse = np.sqrt(mse)\n",
        "  r2 = r2_score(true, pred)\n",
        "\n",
        "  print(f'MSE: {mse},\\n RMSE: {rmse},\\n R^2: {r2} ')"
      ],
      "metadata": {
        "id": "yMdfaEKwWdde"
      },
      "execution_count": 43,
      "outputs": []
    },
    {
      "cell_type": "code",
      "source": [
        "#Train test split\n",
        "X = df.drop(columns='Round')\n",
        "y = df['Round']\n",
        "\n",
        "X_train, X_test, y_train, y_test = train_test_split(X, y, random_state=42)"
      ],
      "metadata": {
        "id": "ypwrRCuJ4-bs"
      },
      "execution_count": 44,
      "outputs": []
    },
    {
      "cell_type": "code",
      "source": [
        "#pre processing\n",
        "scaler = StandardScaler()\n",
        "ohe = OneHotEncoder(sparse=False, handle_unknown='ignore')\n",
        "\n",
        "num_select = make_column_selector(dtype_include='number')\n",
        "cat_select = make_column_selector(dtype_include='object')\n",
        "\n",
        "col_trans = make_column_transformer((scaler, num_select), (ohe, cat_select), remainder='passthrough')"
      ],
      "metadata": {
        "id": "qSLlM67H4uyk"
      },
      "execution_count": 45,
      "outputs": []
    },
    {
      "cell_type": "code",
      "source": [
        "#log reg pipe fit and metrics\n",
        "lin_reg = LinearRegression()\n",
        "lin_reg_pipe = make_pipeline(col_trans,lin_reg)\n",
        "lin_reg_pipe.fit(X_train, y_train)\n",
        "\n",
        "print('Train Evaluation')\n",
        "eval_model(y_train, lin_reg_pipe.predict(X_train))\n",
        "\n",
        "print('\\nTest Evaluation')\n",
        "eval_model(y_test, lin_reg_pipe.predict(X_test))"
      ],
      "metadata": {
        "id": "H__5eUns5M07",
        "colab": {
          "base_uri": "https://localhost:8080/"
        },
        "outputId": "2c8702de-d5a4-40d2-fa93-e05cf5181bba"
      },
      "execution_count": 46,
      "outputs": [
        {
          "output_type": "stream",
          "name": "stdout",
          "text": [
            "Train Evaluation\n",
            "MSE: 3.3839862261729343,\n",
            " RMSE: 1.839561422234369,\n",
            " R^2: 0.4763234750423885 \n",
            "\n",
            "Test Evaluation\n",
            "MSE: 3.254822250414807,\n",
            " RMSE: 1.8041125936079507,\n",
            " R^2: 0.4905943881404847 \n"
          ]
        }
      ]
    },
    {
      "cell_type": "code",
      "source": [
        "lin_reg_pipe.get_params(deep=True);"
      ],
      "metadata": {
        "id": "20hAfsI0GD-L"
      },
      "execution_count": 47,
      "outputs": []
    },
    {
      "cell_type": "code",
      "source": [
        "lin_params = {'linearregression__fit_intercept': [True,False] ,'linearregression__copy_X': [True,False],'linearregression__positive': [True,False]}\n",
        "lin_grid = GridSearchCV(lin_reg_pipe, lin_params)\n",
        "lin_grid.fit(X_train,y_train)"
      ],
      "metadata": {
        "id": "uY9DJyrsGDGh",
        "colab": {
          "base_uri": "https://localhost:8080/"
        },
        "outputId": "259a3a8f-b055-4cd2-f5e3-ef5e1daa6126"
      },
      "execution_count": 48,
      "outputs": [
        {
          "output_type": "execute_result",
          "data": {
            "text/plain": [
              "GridSearchCV(estimator=Pipeline(steps=[('columntransformer',\n",
              "                                        ColumnTransformer(remainder='passthrough',\n",
              "                                                          transformers=[('standardscaler',\n",
              "                                                                         StandardScaler(),\n",
              "                                                                         <sklearn.compose._column_transformer.make_column_selector object at 0x7fcb3db19c90>),\n",
              "                                                                        ('onehotencoder',\n",
              "                                                                         OneHotEncoder(handle_unknown='ignore',\n",
              "                                                                                       sparse=False),\n",
              "                                                                         <sklearn.compose._column_transformer.make_column_selector object at 0x7fcb3db19150>)])),\n",
              "                                       ('linearregression',\n",
              "                                        LinearRegression())]),\n",
              "             param_grid={'linearregression__copy_X': [True, False],\n",
              "                         'linearregression__fit_intercept': [True, False],\n",
              "                         'linearregression__positive': [True, False]})"
            ]
          },
          "metadata": {},
          "execution_count": 48
        }
      ]
    },
    {
      "cell_type": "code",
      "source": [
        "print(lin_grid.best_params_)"
      ],
      "metadata": {
        "id": "qbgagc8BIDBs",
        "colab": {
          "base_uri": "https://localhost:8080/"
        },
        "outputId": "eb6a3eed-e209-403e-bd9d-fbac6e5d1761"
      },
      "execution_count": 49,
      "outputs": [
        {
          "output_type": "stream",
          "name": "stdout",
          "text": [
            "{'linearregression__copy_X': True, 'linearregression__fit_intercept': False, 'linearregression__positive': False}\n"
          ]
        }
      ]
    },
    {
      "cell_type": "code",
      "source": [
        "#tuned logistic regression model metrics\n",
        "lin_model = lin_grid.best_estimator_\n",
        "print('Train Evaluation')\n",
        "eval_model(y_train, lin_model.predict(X_train))\n",
        "\n",
        "print('\\nTest Evaluation')\n",
        "eval_model(y_test, lin_model.predict(X_test))"
      ],
      "metadata": {
        "id": "xUPPTVnzHPON",
        "colab": {
          "base_uri": "https://localhost:8080/"
        },
        "outputId": "4a1723f6-b7ef-4ff1-8cc0-e4de046aa8fe"
      },
      "execution_count": 50,
      "outputs": [
        {
          "output_type": "stream",
          "name": "stdout",
          "text": [
            "Train Evaluation\n",
            "MSE: 3.3839862261729343,\n",
            " RMSE: 1.839561422234369,\n",
            " R^2: 0.4763234750423885 \n",
            "\n",
            "Test Evaluation\n",
            "MSE: 3.254822250414807,\n",
            " RMSE: 1.8041125936079507,\n",
            " R^2: 0.4905943881404847 \n"
          ]
        }
      ]
    },
    {
      "cell_type": "code",
      "source": [
        "#lgbm pipe fit and metrics\n",
        "lgbm = LGBMRegressor()\n",
        "\n",
        "lgbm_pipe = make_pipeline(col_trans,lgbm)\n",
        "lgbm_pipe.fit(X_train, y_train);\n",
        "\n",
        "print('Train Evaluation')\n",
        "eval_model(y_train, lgbm_pipe.predict(X_train))\n",
        "\n",
        "print('\\nTest Evaluation')\n",
        "eval_model(y_test, lgbm_pipe.predict(X_test))"
      ],
      "metadata": {
        "id": "y36g7NHKBnPj",
        "colab": {
          "base_uri": "https://localhost:8080/"
        },
        "outputId": "03cdd4d0-38ac-4dde-df83-8767f703d714"
      },
      "execution_count": 51,
      "outputs": [
        {
          "output_type": "stream",
          "name": "stdout",
          "text": [
            "Train Evaluation\n",
            "MSE: 0.7675394166033083,\n",
            " RMSE: 0.876093269351676,\n",
            " R^2: 0.8812222191254652 \n",
            "\n",
            "Test Evaluation\n",
            "MSE: 1.4641066308582762,\n",
            " RMSE: 1.2100027400209787,\n",
            " R^2: 0.7708556484075642 \n"
          ]
        }
      ]
    },
    {
      "cell_type": "code",
      "source": [
        "lgbm_pipe.get_params();"
      ],
      "metadata": {
        "id": "2y6MYeeZG9mh"
      },
      "execution_count": 52,
      "outputs": []
    },
    {
      "cell_type": "code",
      "source": [
        "lgbm_params = {'lgbmregressor__max_depth':[2,8,10,12,15,25],'lgbmregressor__n_estimators':[40,60,80,100,120,140],'lgbmregressor__num_leaves':[5,15,20,25,35]}\n",
        "lgbm_grid = GridSearchCV(lgbm_pipe, lgbm_params)\n",
        "lgbm_grid.fit(X_train,y_train)"
      ],
      "metadata": {
        "id": "gQAyDkfYG84S",
        "colab": {
          "base_uri": "https://localhost:8080/"
        },
        "outputId": "c41dc99b-0f58-401e-ef03-cfaa94a695df"
      },
      "execution_count": 53,
      "outputs": [
        {
          "output_type": "execute_result",
          "data": {
            "text/plain": [
              "GridSearchCV(estimator=Pipeline(steps=[('columntransformer',\n",
              "                                        ColumnTransformer(remainder='passthrough',\n",
              "                                                          transformers=[('standardscaler',\n",
              "                                                                         StandardScaler(),\n",
              "                                                                         <sklearn.compose._column_transformer.make_column_selector object at 0x7fcb3db19c90>),\n",
              "                                                                        ('onehotencoder',\n",
              "                                                                         OneHotEncoder(handle_unknown='ignore',\n",
              "                                                                                       sparse=False),\n",
              "                                                                         <sklearn.compose._column_transformer.make_column_selector object at 0x7fcb3db19150>)])),\n",
              "                                       ('lgbmregressor', LGBMRegressor())]),\n",
              "             param_grid={'lgbmregressor__max_depth': [2, 8, 10, 12, 15, 25],\n",
              "                         'lgbmregressor__n_estimators': [40, 60, 80, 100, 120,\n",
              "                                                         140],\n",
              "                         'lgbmregressor__num_leaves': [5, 15, 20, 25, 35]})"
            ]
          },
          "metadata": {},
          "execution_count": 53
        }
      ]
    },
    {
      "cell_type": "code",
      "source": [
        "print(lgbm_grid.best_params_)"
      ],
      "metadata": {
        "id": "ES2SWpcyJZoz",
        "colab": {
          "base_uri": "https://localhost:8080/"
        },
        "outputId": "0fb8b8ea-718b-4d16-d9d6-2cc84ff00e4d"
      },
      "execution_count": 54,
      "outputs": [
        {
          "output_type": "stream",
          "name": "stdout",
          "text": [
            "{'lgbmregressor__max_depth': 12, 'lgbmregressor__n_estimators': 100, 'lgbmregressor__num_leaves': 25}\n"
          ]
        }
      ]
    },
    {
      "cell_type": "code",
      "source": [
        "#tuned lgbm model metrics\n",
        "lgbm_model = lgbm_grid.best_estimator_\n",
        "print('Train Evaluation')\n",
        "eval_model(y_train, lgbm_model.predict(X_train))\n",
        "\n",
        "print('\\nTest Evaluation')\n",
        "eval_model(y_test, lgbm_model.predict(X_test))"
      ],
      "metadata": {
        "id": "Vm_g1rs4JVtj",
        "colab": {
          "base_uri": "https://localhost:8080/"
        },
        "outputId": "bc14e1db-8047-4826-ae74-80ee01de63d3"
      },
      "execution_count": 55,
      "outputs": [
        {
          "output_type": "stream",
          "name": "stdout",
          "text": [
            "Train Evaluation\n",
            "MSE: 0.8874996568866514,\n",
            " RMSE: 0.9420720019651637,\n",
            " R^2: 0.8626582068730551 \n",
            "\n",
            "Test Evaluation\n",
            "MSE: 1.4422412214175062,\n",
            " RMSE: 1.2009334791808854,\n",
            " R^2: 0.7742777591766898 \n"
          ]
        }
      ]
    },
    {
      "cell_type": "code",
      "source": [
        "#random forest pipe fit and metrics\n",
        "ran_for = RandomForestRegressor()\n",
        "ran_for_pipe = make_pipeline(col_trans,ran_for)\n",
        "ran_for_pipe.fit(X_train, y_train)\n",
        "\n",
        "print('Train Evaluation')\n",
        "eval_model(y_train, ran_for_pipe.predict(X_train))\n",
        "\n",
        "print('\\nTest Evaluation')\n",
        "eval_model(y_test, ran_for_pipe.predict(X_test))"
      ],
      "metadata": {
        "id": "1koBGVz6Dr9u",
        "colab": {
          "base_uri": "https://localhost:8080/"
        },
        "outputId": "430c027e-8828-49c7-92d3-6d737cda80eb"
      },
      "execution_count": 56,
      "outputs": [
        {
          "output_type": "stream",
          "name": "stdout",
          "text": [
            "Train Evaluation\n",
            "MSE: 0.24038980357536965,\n",
            " RMSE: 0.4902956287540912,\n",
            " R^2: 0.9627993471137849 \n",
            "\n",
            "Test Evaluation\n",
            "MSE: 1.5307890800794173,\n",
            " RMSE: 1.2372506132871453,\n",
            " R^2: 0.7604193138760986 \n"
          ]
        }
      ]
    },
    {
      "cell_type": "code",
      "source": [
        "ran_for_pipe.get_params();"
      ],
      "metadata": {
        "id": "mUr_lXpnLpS3"
      },
      "execution_count": 57,
      "outputs": []
    },
    {
      "cell_type": "code",
      "source": [
        "forest_params = {'randomforestregressor__min_samples_split': [2,4],'randomforestregressor__n_estimators':[100,200,300],'randomforestregressor__max_depth':[6,8,10,12]}\n",
        "forest_grid = GridSearchCV(ran_for_pipe, forest_params)\n",
        "forest_grid.fit(X_train,y_train)"
      ],
      "metadata": {
        "id": "a4NkRBqoLlTa",
        "colab": {
          "base_uri": "https://localhost:8080/"
        },
        "outputId": "6223b757-ccc5-46f1-cd7f-24154078613c"
      },
      "execution_count": 58,
      "outputs": [
        {
          "output_type": "execute_result",
          "data": {
            "text/plain": [
              "GridSearchCV(estimator=Pipeline(steps=[('columntransformer',\n",
              "                                        ColumnTransformer(remainder='passthrough',\n",
              "                                                          transformers=[('standardscaler',\n",
              "                                                                         StandardScaler(),\n",
              "                                                                         <sklearn.compose._column_transformer.make_column_selector object at 0x7fcb3db19c90>),\n",
              "                                                                        ('onehotencoder',\n",
              "                                                                         OneHotEncoder(handle_unknown='ignore',\n",
              "                                                                                       sparse=False),\n",
              "                                                                         <sklearn.compose._column_transformer.make_column_selector object at 0x7fcb3db19150>)])),\n",
              "                                       ('randomforestregressor',\n",
              "                                        RandomForestRegressor())]),\n",
              "             param_grid={'randomforestregressor__max_depth': [6, 8, 10, 12],\n",
              "                         'randomforestregressor__min_samples_split': [2, 4],\n",
              "                         'randomforestregressor__n_estimators': [100, 200,\n",
              "                                                                 300]})"
            ]
          },
          "metadata": {},
          "execution_count": 58
        }
      ]
    },
    {
      "cell_type": "code",
      "source": [
        "print(forest_grid.best_params_)"
      ],
      "metadata": {
        "id": "Gj-99aNvL3Wx",
        "colab": {
          "base_uri": "https://localhost:8080/"
        },
        "outputId": "7833c563-a718-4052-e0bf-db79162d68d1"
      },
      "execution_count": 59,
      "outputs": [
        {
          "output_type": "stream",
          "name": "stdout",
          "text": [
            "{'randomforestregressor__max_depth': 10, 'randomforestregressor__min_samples_split': 2, 'randomforestregressor__n_estimators': 300}\n"
          ]
        }
      ]
    },
    {
      "cell_type": "code",
      "source": [
        "#tuned random forest model and metrics\n",
        "forest_model = forest_grid.best_estimator_\n",
        "\n",
        "print('Train Evaluation')\n",
        "eval_model(y_train, forest_model.predict(X_train))\n",
        "\n",
        "print('\\nTest Evaluation')\n",
        "eval_model(y_test, forest_model.predict(X_test))"
      ],
      "metadata": {
        "id": "mSP0o8q-L31R",
        "colab": {
          "base_uri": "https://localhost:8080/"
        },
        "outputId": "16bd9133-9187-464f-ebb3-ef80401e40de"
      },
      "execution_count": 60,
      "outputs": [
        {
          "output_type": "stream",
          "name": "stdout",
          "text": [
            "Train Evaluation\n",
            "MSE: 0.6443202362467874,\n",
            " RMSE: 0.8026956062211799,\n",
            " R^2: 0.9002905568385899 \n",
            "\n",
            "Test Evaluation\n",
            "MSE: 1.5093753297571026,\n",
            " RMSE: 1.2285663717345932,\n",
            " R^2: 0.7637707363950259 \n"
          ]
        }
      ]
    },
    {
      "cell_type": "markdown",
      "source": [
        "I would choose the  lgbm model for production has the similar results as the random forest but less overfit.\n",
        "<br> and the linear regression model has poor accuracy numbers compared to the other two\n"
      ],
      "metadata": {
        "id": "-lwskRQjOcqb"
      }
    }
  ]
}