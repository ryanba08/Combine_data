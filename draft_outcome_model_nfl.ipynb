{
  "nbformat": 4,
  "nbformat_minor": 0,
  "metadata": {
    "colab": {
      "name": "draft_outcome_model_nfl.ipynb",
      "provenance": [],
      "collapsed_sections": []
    },
    "kernelspec": {
      "name": "python3",
      "display_name": "Python 3"
    },
    "language_info": {
      "name": "python"
    }
  },
  "cells": [
    {
      "cell_type": "code",
      "source": [
        "from google.colab import drive\n",
        "drive.mount('/content/drive')"
      ],
      "metadata": {
        "colab": {
          "base_uri": "https://localhost:8080/"
        },
        "id": "x53w1q4nUxk3",
        "outputId": "4d6056bf-c7df-4633-ef7d-ec06db6de904"
      },
      "execution_count": 136,
      "outputs": [
        {
          "output_type": "stream",
          "name": "stdout",
          "text": [
            "Drive already mounted at /content/drive; to attempt to forcibly remount, call drive.mount(\"/content/drive\", force_remount=True).\n"
          ]
        }
      ]
    },
    {
      "cell_type": "code",
      "execution_count": 137,
      "metadata": {
        "id": "XTeRqxe_UssL"
      },
      "outputs": [],
      "source": [
        "import pandas as pd\n",
        "import numpy as np\n",
        "import matplotlib.pyplot as plt\n",
        "import seaborn as sns\n",
        "from google.colab import files\n",
        "from sklearn.model_selection import train_test_split\n",
        "from sklearn.pipeline import make_pipeline\n",
        "from sklearn.preprocessing import StandardScaler, OneHotEncoder\n",
        "from sklearn.linear_model import LogisticRegression\n",
        "from sklearn.ensemble import RandomForestClassifier\n",
        "from lightgbm import LGBMClassifier\n",
        "from sklearn.model_selection import GridSearchCV\n",
        "from sklearn.compose import make_column_transformer, make_column_selector\n",
        "from sklearn.metrics import accuracy_score, roc_auc_score, plot_confusion_matrix, plot_roc_curve, confusion_matrix"
      ]
    },
    {
      "cell_type": "code",
      "source": [
        "df = pd.read_csv('/content/drive/MyDrive/CODING/project2/combine_data_since_2000_PROCESSED_2018-04-26.csv')\n",
        "df.head()"
      ],
      "metadata": {
        "colab": {
          "base_uri": "https://localhost:8080/",
          "height": 206
        },
        "id": "1OhJhd2CU8Nk",
        "outputId": "c5eea637-a547-4ac3-91cd-a1a72c10ddef"
      },
      "execution_count": 138,
      "outputs": [
        {
          "output_type": "execute_result",
          "data": {
            "text/html": [
              "\n",
              "  <div id=\"df-c86c4955-e7d0-4d60-9182-764dceb6b265\">\n",
              "    <div class=\"colab-df-container\">\n",
              "      <div>\n",
              "<style scoped>\n",
              "    .dataframe tbody tr th:only-of-type {\n",
              "        vertical-align: middle;\n",
              "    }\n",
              "\n",
              "    .dataframe tbody tr th {\n",
              "        vertical-align: top;\n",
              "    }\n",
              "\n",
              "    .dataframe thead th {\n",
              "        text-align: right;\n",
              "    }\n",
              "</style>\n",
              "<table border=\"1\" class=\"dataframe\">\n",
              "  <thead>\n",
              "    <tr style=\"text-align: right;\">\n",
              "      <th></th>\n",
              "      <th>Player</th>\n",
              "      <th>Pos</th>\n",
              "      <th>Ht</th>\n",
              "      <th>Wt</th>\n",
              "      <th>Forty</th>\n",
              "      <th>Vertical</th>\n",
              "      <th>BenchReps</th>\n",
              "      <th>BroadJump</th>\n",
              "      <th>Cone</th>\n",
              "      <th>Shuttle</th>\n",
              "      <th>Year</th>\n",
              "      <th>Pfr_ID</th>\n",
              "      <th>AV</th>\n",
              "      <th>Team</th>\n",
              "      <th>Round</th>\n",
              "      <th>Pick</th>\n",
              "    </tr>\n",
              "  </thead>\n",
              "  <tbody>\n",
              "    <tr>\n",
              "      <th>0</th>\n",
              "      <td>John Abraham</td>\n",
              "      <td>OLB</td>\n",
              "      <td>76</td>\n",
              "      <td>252</td>\n",
              "      <td>4.55</td>\n",
              "      <td>NaN</td>\n",
              "      <td>NaN</td>\n",
              "      <td>NaN</td>\n",
              "      <td>NaN</td>\n",
              "      <td>NaN</td>\n",
              "      <td>2000</td>\n",
              "      <td>AbraJo00</td>\n",
              "      <td>26.0</td>\n",
              "      <td>New York Jets</td>\n",
              "      <td>1.0</td>\n",
              "      <td>13.0</td>\n",
              "    </tr>\n",
              "    <tr>\n",
              "      <th>1</th>\n",
              "      <td>Shaun Alexander</td>\n",
              "      <td>RB</td>\n",
              "      <td>72</td>\n",
              "      <td>218</td>\n",
              "      <td>4.58</td>\n",
              "      <td>NaN</td>\n",
              "      <td>NaN</td>\n",
              "      <td>NaN</td>\n",
              "      <td>NaN</td>\n",
              "      <td>NaN</td>\n",
              "      <td>2000</td>\n",
              "      <td>AlexSh00</td>\n",
              "      <td>26.0</td>\n",
              "      <td>Seattle Seahawks</td>\n",
              "      <td>1.0</td>\n",
              "      <td>19.0</td>\n",
              "    </tr>\n",
              "    <tr>\n",
              "      <th>2</th>\n",
              "      <td>Darnell Alford</td>\n",
              "      <td>OT</td>\n",
              "      <td>76</td>\n",
              "      <td>334</td>\n",
              "      <td>5.56</td>\n",
              "      <td>25.0</td>\n",
              "      <td>23.0</td>\n",
              "      <td>94.0</td>\n",
              "      <td>8.48</td>\n",
              "      <td>4.98</td>\n",
              "      <td>2000</td>\n",
              "      <td>AlfoDa20</td>\n",
              "      <td>0.0</td>\n",
              "      <td>Kansas City Chiefs</td>\n",
              "      <td>6.0</td>\n",
              "      <td>188.0</td>\n",
              "    </tr>\n",
              "    <tr>\n",
              "      <th>3</th>\n",
              "      <td>Kyle Allamon</td>\n",
              "      <td>TE</td>\n",
              "      <td>74</td>\n",
              "      <td>253</td>\n",
              "      <td>4.97</td>\n",
              "      <td>29.0</td>\n",
              "      <td>NaN</td>\n",
              "      <td>104.0</td>\n",
              "      <td>7.29</td>\n",
              "      <td>4.49</td>\n",
              "      <td>2000</td>\n",
              "      <td>NaN</td>\n",
              "      <td>0.0</td>\n",
              "      <td>NaN</td>\n",
              "      <td>NaN</td>\n",
              "      <td>NaN</td>\n",
              "    </tr>\n",
              "    <tr>\n",
              "      <th>4</th>\n",
              "      <td>Rashard Anderson</td>\n",
              "      <td>CB</td>\n",
              "      <td>74</td>\n",
              "      <td>206</td>\n",
              "      <td>4.55</td>\n",
              "      <td>34.0</td>\n",
              "      <td>NaN</td>\n",
              "      <td>123.0</td>\n",
              "      <td>7.18</td>\n",
              "      <td>4.15</td>\n",
              "      <td>2000</td>\n",
              "      <td>AndeRa21</td>\n",
              "      <td>6.0</td>\n",
              "      <td>Carolina Panthers</td>\n",
              "      <td>1.0</td>\n",
              "      <td>23.0</td>\n",
              "    </tr>\n",
              "  </tbody>\n",
              "</table>\n",
              "</div>\n",
              "      <button class=\"colab-df-convert\" onclick=\"convertToInteractive('df-c86c4955-e7d0-4d60-9182-764dceb6b265')\"\n",
              "              title=\"Convert this dataframe to an interactive table.\"\n",
              "              style=\"display:none;\">\n",
              "        \n",
              "  <svg xmlns=\"http://www.w3.org/2000/svg\" height=\"24px\"viewBox=\"0 0 24 24\"\n",
              "       width=\"24px\">\n",
              "    <path d=\"M0 0h24v24H0V0z\" fill=\"none\"/>\n",
              "    <path d=\"M18.56 5.44l.94 2.06.94-2.06 2.06-.94-2.06-.94-.94-2.06-.94 2.06-2.06.94zm-11 1L8.5 8.5l.94-2.06 2.06-.94-2.06-.94L8.5 2.5l-.94 2.06-2.06.94zm10 10l.94 2.06.94-2.06 2.06-.94-2.06-.94-.94-2.06-.94 2.06-2.06.94z\"/><path d=\"M17.41 7.96l-1.37-1.37c-.4-.4-.92-.59-1.43-.59-.52 0-1.04.2-1.43.59L10.3 9.45l-7.72 7.72c-.78.78-.78 2.05 0 2.83L4 21.41c.39.39.9.59 1.41.59.51 0 1.02-.2 1.41-.59l7.78-7.78 2.81-2.81c.8-.78.8-2.07 0-2.86zM5.41 20L4 18.59l7.72-7.72 1.47 1.35L5.41 20z\"/>\n",
              "  </svg>\n",
              "      </button>\n",
              "      \n",
              "  <style>\n",
              "    .colab-df-container {\n",
              "      display:flex;\n",
              "      flex-wrap:wrap;\n",
              "      gap: 12px;\n",
              "    }\n",
              "\n",
              "    .colab-df-convert {\n",
              "      background-color: #E8F0FE;\n",
              "      border: none;\n",
              "      border-radius: 50%;\n",
              "      cursor: pointer;\n",
              "      display: none;\n",
              "      fill: #1967D2;\n",
              "      height: 32px;\n",
              "      padding: 0 0 0 0;\n",
              "      width: 32px;\n",
              "    }\n",
              "\n",
              "    .colab-df-convert:hover {\n",
              "      background-color: #E2EBFA;\n",
              "      box-shadow: 0px 1px 2px rgba(60, 64, 67, 0.3), 0px 1px 3px 1px rgba(60, 64, 67, 0.15);\n",
              "      fill: #174EA6;\n",
              "    }\n",
              "\n",
              "    [theme=dark] .colab-df-convert {\n",
              "      background-color: #3B4455;\n",
              "      fill: #D2E3FC;\n",
              "    }\n",
              "\n",
              "    [theme=dark] .colab-df-convert:hover {\n",
              "      background-color: #434B5C;\n",
              "      box-shadow: 0px 1px 3px 1px rgba(0, 0, 0, 0.15);\n",
              "      filter: drop-shadow(0px 1px 2px rgba(0, 0, 0, 0.3));\n",
              "      fill: #FFFFFF;\n",
              "    }\n",
              "  </style>\n",
              "\n",
              "      <script>\n",
              "        const buttonEl =\n",
              "          document.querySelector('#df-c86c4955-e7d0-4d60-9182-764dceb6b265 button.colab-df-convert');\n",
              "        buttonEl.style.display =\n",
              "          google.colab.kernel.accessAllowed ? 'block' : 'none';\n",
              "\n",
              "        async function convertToInteractive(key) {\n",
              "          const element = document.querySelector('#df-c86c4955-e7d0-4d60-9182-764dceb6b265');\n",
              "          const dataTable =\n",
              "            await google.colab.kernel.invokeFunction('convertToInteractive',\n",
              "                                                     [key], {});\n",
              "          if (!dataTable) return;\n",
              "\n",
              "          const docLinkHtml = 'Like what you see? Visit the ' +\n",
              "            '<a target=\"_blank\" href=https://colab.research.google.com/notebooks/data_table.ipynb>data table notebook</a>'\n",
              "            + ' to learn more about interactive tables.';\n",
              "          element.innerHTML = '';\n",
              "          dataTable['output_type'] = 'display_data';\n",
              "          await google.colab.output.renderOutput(dataTable, element);\n",
              "          const docLink = document.createElement('div');\n",
              "          docLink.innerHTML = docLinkHtml;\n",
              "          element.appendChild(docLink);\n",
              "        }\n",
              "      </script>\n",
              "    </div>\n",
              "  </div>\n",
              "  "
            ],
            "text/plain": [
              "             Player  Pos  Ht   Wt  ...    AV                Team  Round   Pick\n",
              "0      John Abraham  OLB  76  252  ...  26.0       New York Jets    1.0   13.0\n",
              "1   Shaun Alexander   RB  72  218  ...  26.0    Seattle Seahawks    1.0   19.0\n",
              "2    Darnell Alford   OT  76  334  ...   0.0  Kansas City Chiefs    6.0  188.0\n",
              "3      Kyle Allamon   TE  74  253  ...   0.0                 NaN    NaN    NaN\n",
              "4  Rashard Anderson   CB  74  206  ...   6.0   Carolina Panthers    1.0   23.0\n",
              "\n",
              "[5 rows x 16 columns]"
            ]
          },
          "metadata": {},
          "execution_count": 138
        }
      ]
    },
    {
      "cell_type": "code",
      "source": [
        "df.info()"
      ],
      "metadata": {
        "colab": {
          "base_uri": "https://localhost:8080/"
        },
        "id": "st_YeobfVC-M",
        "outputId": "014ddb18-bb0a-4119-cd9f-c3e1e470d6af"
      },
      "execution_count": 139,
      "outputs": [
        {
          "output_type": "stream",
          "name": "stdout",
          "text": [
            "<class 'pandas.core.frame.DataFrame'>\n",
            "RangeIndex: 6218 entries, 0 to 6217\n",
            "Data columns (total 16 columns):\n",
            " #   Column     Non-Null Count  Dtype  \n",
            "---  ------     --------------  -----  \n",
            " 0   Player     6218 non-null   object \n",
            " 1   Pos        6218 non-null   object \n",
            " 2   Ht         6218 non-null   int64  \n",
            " 3   Wt         6218 non-null   int64  \n",
            " 4   Forty      6046 non-null   float64\n",
            " 5   Vertical   4796 non-null   float64\n",
            " 6   BenchReps  4212 non-null   float64\n",
            " 7   BroadJump  4754 non-null   float64\n",
            " 8   Cone       3993 non-null   float64\n",
            " 9   Shuttle    4063 non-null   float64\n",
            " 10  Year       6218 non-null   int64  \n",
            " 11  Pfr_ID     4895 non-null   object \n",
            " 12  AV         6218 non-null   float64\n",
            " 13  Team       3738 non-null   object \n",
            " 14  Round      3738 non-null   float64\n",
            " 15  Pick       3738 non-null   float64\n",
            "dtypes: float64(9), int64(3), object(4)\n",
            "memory usage: 777.4+ KB\n"
          ]
        }
      ]
    },
    {
      "cell_type": "markdown",
      "source": [
        "### Questions and anwsers about data"
      ],
      "metadata": {
        "id": "P0It2jrewA60"
      }
    },
    {
      "cell_type": "markdown",
      "source": [
        "1) Source of data\n",
        "<br>\n",
        "https://www.kaggle.com/savvastj/nfl-combine-data\n",
        "<br><br>\n",
        "2) Brief description of data\n",
        "<br>\n",
        "The data is nfl combine data of how athletes performed and where they got drafted\n",
        "<br><br>\n",
        "3) What is the target?\n",
        "<br>\n",
        "the target will be the round the player got drafted\n",
        "<br><br>\n",
        "4) Is this a classification or regression problem?\n",
        "<br>\n",
        "classification problem\n",
        "<br><br>\n",
        "5) How many features?\n",
        "<br>\n",
        "11 features after i drop some of the things that are not needed like team and pfr_id\n",
        "<br><br>\n",
        "6) How many rows of data.\n",
        "<br>\n",
        "6218\n",
        "<br><br>\n",
        "7) What, if any, challenges do your foresee in cleaning, exploring, or modeling with this dataset?\n",
        "<br>\n",
        "just getting a model to perform well. Interesting cleaning process will have to really think about how to fill some values or drop.\n"
      ],
      "metadata": {
        "id": "p8lOIKESYTaE"
      }
    },
    {
      "cell_type": "markdown",
      "source": [
        "###Data Cleaning"
      ],
      "metadata": {
        "id": "udS5DBn8wJV7"
      }
    },
    {
      "cell_type": "code",
      "source": [
        "#dropping unnecesarry rows\n",
        "df.drop(columns=['Player','Pfr_ID','Team','Pick'],inplace=True)"
      ],
      "metadata": {
        "id": "_xqJdMunw1hb"
      },
      "execution_count": 140,
      "outputs": []
    },
    {
      "cell_type": "code",
      "source": [
        "#check for Duplicates\n",
        "df.duplicated().sum()"
      ],
      "metadata": {
        "colab": {
          "base_uri": "https://localhost:8080/"
        },
        "id": "EOqHXbU6xOfq",
        "outputId": "5f1dc8fc-eaeb-4a93-a81a-a801632bdf56"
      },
      "execution_count": 141,
      "outputs": [
        {
          "output_type": "execute_result",
          "data": {
            "text/plain": [
              "1"
            ]
          },
          "metadata": {},
          "execution_count": 141
        }
      ]
    },
    {
      "cell_type": "code",
      "source": [
        "#drop duplicates\n",
        "df.drop_duplicates(inplace=True)\n",
        "df.duplicated().sum()"
      ],
      "metadata": {
        "colab": {
          "base_uri": "https://localhost:8080/"
        },
        "id": "aBxmDjo-xWoB",
        "outputId": "348ef9ca-1839-42e4-83f8-ea6d2585ac5d"
      },
      "execution_count": 142,
      "outputs": [
        {
          "output_type": "execute_result",
          "data": {
            "text/plain": [
              "0"
            ]
          },
          "metadata": {},
          "execution_count": 142
        }
      ]
    },
    {
      "cell_type": "code",
      "source": [
        "#missing data going to check each time after i fix to ensure it worked\n",
        "df.isna().sum()"
      ],
      "metadata": {
        "colab": {
          "base_uri": "https://localhost:8080/"
        },
        "id": "dsMmtrLOxqrz",
        "outputId": "ea3c7851-fb53-42d5-b319-ead5a2ff0b6c"
      },
      "execution_count": 143,
      "outputs": [
        {
          "output_type": "execute_result",
          "data": {
            "text/plain": [
              "Pos             0\n",
              "Ht              0\n",
              "Wt              0\n",
              "Forty         171\n",
              "Vertical     1421\n",
              "BenchReps    2005\n",
              "BroadJump    1463\n",
              "Cone         2224\n",
              "Shuttle      2154\n",
              "Year            0\n",
              "AV              0\n",
              "Round        2479\n",
              "dtype: int64"
            ]
          },
          "metadata": {},
          "execution_count": 143
        }
      ]
    },
    {
      "cell_type": "code",
      "source": [
        "#drop missing forty times\n",
        "df.dropna(subset=['Forty'],inplace=True)"
      ],
      "metadata": {
        "id": "5iQj1Q0KyFUM"
      },
      "execution_count": 144,
      "outputs": []
    },
    {
      "cell_type": "code",
      "source": [
        "#missing data check\n",
        "df.isna().sum()"
      ],
      "metadata": {
        "colab": {
          "base_uri": "https://localhost:8080/"
        },
        "id": "BrmNsxCE1WnJ",
        "outputId": "8f1734d6-4d24-47f3-a845-9dd53829804d"
      },
      "execution_count": 145,
      "outputs": [
        {
          "output_type": "execute_result",
          "data": {
            "text/plain": [
              "Pos             0\n",
              "Ht              0\n",
              "Wt              0\n",
              "Forty           0\n",
              "Vertical     1295\n",
              "BenchReps    1913\n",
              "BroadJump    1334\n",
              "Cone         2078\n",
              "Shuttle      2009\n",
              "Year            0\n",
              "AV              0\n",
              "Round        2358\n",
              "dtype: int64"
            ]
          },
          "metadata": {},
          "execution_count": 145
        }
      ]
    },
    {
      "cell_type": "code",
      "source": [
        "#Fill in Round Undrafted players will be round 8 For classifying purposes\n",
        "#First check value_counts to make sure No weird values\n",
        "df['Round'].value_counts()"
      ],
      "metadata": {
        "colab": {
          "base_uri": "https://localhost:8080/"
        },
        "id": "fqFvOnYTygFi",
        "outputId": "38f0ea3c-a1b5-4425-8f31-9061da6f14d9"
      },
      "execution_count": 146,
      "outputs": [
        {
          "output_type": "execute_result",
          "data": {
            "text/plain": [
              "4.0    584\n",
              "3.0    584\n",
              "1.0    560\n",
              "2.0    547\n",
              "5.0    521\n",
              "6.0    450\n",
              "7.0    442\n",
              "Name: Round, dtype: int64"
            ]
          },
          "metadata": {},
          "execution_count": 146
        }
      ]
    },
    {
      "cell_type": "code",
      "source": [
        "df['Round'].fillna(value=8,inplace=True)"
      ],
      "metadata": {
        "id": "3ng6cVyZ1lJB"
      },
      "execution_count": 147,
      "outputs": []
    },
    {
      "cell_type": "code",
      "source": [
        "df['Round'].value_counts()"
      ],
      "metadata": {
        "colab": {
          "base_uri": "https://localhost:8080/"
        },
        "id": "y7n_o3cl1rc_",
        "outputId": "13bea8d9-230f-449d-f49c-217e792552e0"
      },
      "execution_count": 148,
      "outputs": [
        {
          "output_type": "execute_result",
          "data": {
            "text/plain": [
              "8.0    2358\n",
              "4.0     584\n",
              "3.0     584\n",
              "1.0     560\n",
              "2.0     547\n",
              "5.0     521\n",
              "6.0     450\n",
              "7.0     442\n",
              "Name: Round, dtype: int64"
            ]
          },
          "metadata": {},
          "execution_count": 148
        }
      ]
    },
    {
      "cell_type": "code",
      "source": [
        "#missing data check\n",
        "df.isna().sum()"
      ],
      "metadata": {
        "colab": {
          "base_uri": "https://localhost:8080/"
        },
        "id": "DwtNUfql1wyI",
        "outputId": "877ea464-dcb1-47b6-85a7-2424a8279a55"
      },
      "execution_count": 149,
      "outputs": [
        {
          "output_type": "execute_result",
          "data": {
            "text/plain": [
              "Pos             0\n",
              "Ht              0\n",
              "Wt              0\n",
              "Forty           0\n",
              "Vertical     1295\n",
              "BenchReps    1913\n",
              "BroadJump    1334\n",
              "Cone         2078\n",
              "Shuttle      2009\n",
              "Year            0\n",
              "AV              0\n",
              "Round           0\n",
              "dtype: int64"
            ]
          },
          "metadata": {},
          "execution_count": 149
        }
      ]
    },
    {
      "cell_type": "code",
      "source": [
        "df.describe()"
      ],
      "metadata": {
        "colab": {
          "base_uri": "https://localhost:8080/",
          "height": 300
        },
        "id": "_RnxlQzg5gPQ",
        "outputId": "db7ba238-a942-4441-d26c-1557762f14fe"
      },
      "execution_count": 150,
      "outputs": [
        {
          "output_type": "execute_result",
          "data": {
            "text/html": [
              "\n",
              "  <div id=\"df-3e122fdb-684b-41a4-93e1-2771740afc6e\">\n",
              "    <div class=\"colab-df-container\">\n",
              "      <div>\n",
              "<style scoped>\n",
              "    .dataframe tbody tr th:only-of-type {\n",
              "        vertical-align: middle;\n",
              "    }\n",
              "\n",
              "    .dataframe tbody tr th {\n",
              "        vertical-align: top;\n",
              "    }\n",
              "\n",
              "    .dataframe thead th {\n",
              "        text-align: right;\n",
              "    }\n",
              "</style>\n",
              "<table border=\"1\" class=\"dataframe\">\n",
              "  <thead>\n",
              "    <tr style=\"text-align: right;\">\n",
              "      <th></th>\n",
              "      <th>Ht</th>\n",
              "      <th>Wt</th>\n",
              "      <th>Forty</th>\n",
              "      <th>Vertical</th>\n",
              "      <th>BenchReps</th>\n",
              "      <th>BroadJump</th>\n",
              "      <th>Cone</th>\n",
              "      <th>Shuttle</th>\n",
              "      <th>Year</th>\n",
              "      <th>AV</th>\n",
              "      <th>Round</th>\n",
              "    </tr>\n",
              "  </thead>\n",
              "  <tbody>\n",
              "    <tr>\n",
              "      <th>count</th>\n",
              "      <td>6046.00000</td>\n",
              "      <td>6046.000000</td>\n",
              "      <td>6046.000000</td>\n",
              "      <td>4751.000000</td>\n",
              "      <td>4133.000000</td>\n",
              "      <td>4712.000000</td>\n",
              "      <td>3968.000000</td>\n",
              "      <td>4037.000000</td>\n",
              "      <td>6046.000000</td>\n",
              "      <td>6046.000000</td>\n",
              "      <td>6046.000000</td>\n",
              "    </tr>\n",
              "    <tr>\n",
              "      <th>mean</th>\n",
              "      <td>73.79474</td>\n",
              "      <td>243.668707</td>\n",
              "      <td>4.783784</td>\n",
              "      <td>32.819406</td>\n",
              "      <td>20.958142</td>\n",
              "      <td>113.934423</td>\n",
              "      <td>7.283007</td>\n",
              "      <td>4.390647</td>\n",
              "      <td>2008.900265</td>\n",
              "      <td>5.196990</td>\n",
              "      <td>5.458981</td>\n",
              "    </tr>\n",
              "    <tr>\n",
              "      <th>std</th>\n",
              "      <td>2.62577</td>\n",
              "      <td>45.211492</td>\n",
              "      <td>0.305984</td>\n",
              "      <td>4.216011</td>\n",
              "      <td>6.407578</td>\n",
              "      <td>9.330584</td>\n",
              "      <td>0.423341</td>\n",
              "      <td>0.269369</td>\n",
              "      <td>5.379692</td>\n",
              "      <td>7.606366</td>\n",
              "      <td>2.539004</td>\n",
              "    </tr>\n",
              "    <tr>\n",
              "      <th>min</th>\n",
              "      <td>65.00000</td>\n",
              "      <td>149.000000</td>\n",
              "      <td>4.220000</td>\n",
              "      <td>17.500000</td>\n",
              "      <td>2.000000</td>\n",
              "      <td>74.000000</td>\n",
              "      <td>6.280000</td>\n",
              "      <td>3.730000</td>\n",
              "      <td>2000.000000</td>\n",
              "      <td>-4.000000</td>\n",
              "      <td>1.000000</td>\n",
              "    </tr>\n",
              "    <tr>\n",
              "      <th>25%</th>\n",
              "      <td>72.00000</td>\n",
              "      <td>206.000000</td>\n",
              "      <td>4.540000</td>\n",
              "      <td>30.000000</td>\n",
              "      <td>16.000000</td>\n",
              "      <td>108.000000</td>\n",
              "      <td>6.970000</td>\n",
              "      <td>4.190000</td>\n",
              "      <td>2004.000000</td>\n",
              "      <td>0.000000</td>\n",
              "      <td>3.000000</td>\n",
              "    </tr>\n",
              "    <tr>\n",
              "      <th>50%</th>\n",
              "      <td>74.00000</td>\n",
              "      <td>234.000000</td>\n",
              "      <td>4.700000</td>\n",
              "      <td>33.000000</td>\n",
              "      <td>21.000000</td>\n",
              "      <td>115.000000</td>\n",
              "      <td>7.190000</td>\n",
              "      <td>4.350000</td>\n",
              "      <td>2009.000000</td>\n",
              "      <td>1.000000</td>\n",
              "      <td>6.000000</td>\n",
              "    </tr>\n",
              "    <tr>\n",
              "      <th>75%</th>\n",
              "      <td>76.00000</td>\n",
              "      <td>281.750000</td>\n",
              "      <td>4.980000</td>\n",
              "      <td>35.500000</td>\n",
              "      <td>25.000000</td>\n",
              "      <td>121.000000</td>\n",
              "      <td>7.540000</td>\n",
              "      <td>4.560000</td>\n",
              "      <td>2014.000000</td>\n",
              "      <td>8.000000</td>\n",
              "      <td>8.000000</td>\n",
              "    </tr>\n",
              "    <tr>\n",
              "      <th>max</th>\n",
              "      <td>82.00000</td>\n",
              "      <td>375.000000</td>\n",
              "      <td>6.050000</td>\n",
              "      <td>46.000000</td>\n",
              "      <td>49.000000</td>\n",
              "      <td>147.000000</td>\n",
              "      <td>9.120000</td>\n",
              "      <td>5.560000</td>\n",
              "      <td>2018.000000</td>\n",
              "      <td>51.000000</td>\n",
              "      <td>8.000000</td>\n",
              "    </tr>\n",
              "  </tbody>\n",
              "</table>\n",
              "</div>\n",
              "      <button class=\"colab-df-convert\" onclick=\"convertToInteractive('df-3e122fdb-684b-41a4-93e1-2771740afc6e')\"\n",
              "              title=\"Convert this dataframe to an interactive table.\"\n",
              "              style=\"display:none;\">\n",
              "        \n",
              "  <svg xmlns=\"http://www.w3.org/2000/svg\" height=\"24px\"viewBox=\"0 0 24 24\"\n",
              "       width=\"24px\">\n",
              "    <path d=\"M0 0h24v24H0V0z\" fill=\"none\"/>\n",
              "    <path d=\"M18.56 5.44l.94 2.06.94-2.06 2.06-.94-2.06-.94-.94-2.06-.94 2.06-2.06.94zm-11 1L8.5 8.5l.94-2.06 2.06-.94-2.06-.94L8.5 2.5l-.94 2.06-2.06.94zm10 10l.94 2.06.94-2.06 2.06-.94-2.06-.94-.94-2.06-.94 2.06-2.06.94z\"/><path d=\"M17.41 7.96l-1.37-1.37c-.4-.4-.92-.59-1.43-.59-.52 0-1.04.2-1.43.59L10.3 9.45l-7.72 7.72c-.78.78-.78 2.05 0 2.83L4 21.41c.39.39.9.59 1.41.59.51 0 1.02-.2 1.41-.59l7.78-7.78 2.81-2.81c.8-.78.8-2.07 0-2.86zM5.41 20L4 18.59l7.72-7.72 1.47 1.35L5.41 20z\"/>\n",
              "  </svg>\n",
              "      </button>\n",
              "      \n",
              "  <style>\n",
              "    .colab-df-container {\n",
              "      display:flex;\n",
              "      flex-wrap:wrap;\n",
              "      gap: 12px;\n",
              "    }\n",
              "\n",
              "    .colab-df-convert {\n",
              "      background-color: #E8F0FE;\n",
              "      border: none;\n",
              "      border-radius: 50%;\n",
              "      cursor: pointer;\n",
              "      display: none;\n",
              "      fill: #1967D2;\n",
              "      height: 32px;\n",
              "      padding: 0 0 0 0;\n",
              "      width: 32px;\n",
              "    }\n",
              "\n",
              "    .colab-df-convert:hover {\n",
              "      background-color: #E2EBFA;\n",
              "      box-shadow: 0px 1px 2px rgba(60, 64, 67, 0.3), 0px 1px 3px 1px rgba(60, 64, 67, 0.15);\n",
              "      fill: #174EA6;\n",
              "    }\n",
              "\n",
              "    [theme=dark] .colab-df-convert {\n",
              "      background-color: #3B4455;\n",
              "      fill: #D2E3FC;\n",
              "    }\n",
              "\n",
              "    [theme=dark] .colab-df-convert:hover {\n",
              "      background-color: #434B5C;\n",
              "      box-shadow: 0px 1px 3px 1px rgba(0, 0, 0, 0.15);\n",
              "      filter: drop-shadow(0px 1px 2px rgba(0, 0, 0, 0.3));\n",
              "      fill: #FFFFFF;\n",
              "    }\n",
              "  </style>\n",
              "\n",
              "      <script>\n",
              "        const buttonEl =\n",
              "          document.querySelector('#df-3e122fdb-684b-41a4-93e1-2771740afc6e button.colab-df-convert');\n",
              "        buttonEl.style.display =\n",
              "          google.colab.kernel.accessAllowed ? 'block' : 'none';\n",
              "\n",
              "        async function convertToInteractive(key) {\n",
              "          const element = document.querySelector('#df-3e122fdb-684b-41a4-93e1-2771740afc6e');\n",
              "          const dataTable =\n",
              "            await google.colab.kernel.invokeFunction('convertToInteractive',\n",
              "                                                     [key], {});\n",
              "          if (!dataTable) return;\n",
              "\n",
              "          const docLinkHtml = 'Like what you see? Visit the ' +\n",
              "            '<a target=\"_blank\" href=https://colab.research.google.com/notebooks/data_table.ipynb>data table notebook</a>'\n",
              "            + ' to learn more about interactive tables.';\n",
              "          element.innerHTML = '';\n",
              "          dataTable['output_type'] = 'display_data';\n",
              "          await google.colab.output.renderOutput(dataTable, element);\n",
              "          const docLink = document.createElement('div');\n",
              "          docLink.innerHTML = docLinkHtml;\n",
              "          element.appendChild(docLink);\n",
              "        }\n",
              "      </script>\n",
              "    </div>\n",
              "  </div>\n",
              "  "
            ],
            "text/plain": [
              "               Ht           Wt  ...           AV        Round\n",
              "count  6046.00000  6046.000000  ...  6046.000000  6046.000000\n",
              "mean     73.79474   243.668707  ...     5.196990     5.458981\n",
              "std       2.62577    45.211492  ...     7.606366     2.539004\n",
              "min      65.00000   149.000000  ...    -4.000000     1.000000\n",
              "25%      72.00000   206.000000  ...     0.000000     3.000000\n",
              "50%      74.00000   234.000000  ...     1.000000     6.000000\n",
              "75%      76.00000   281.750000  ...     8.000000     8.000000\n",
              "max      82.00000   375.000000  ...    51.000000     8.000000\n",
              "\n",
              "[8 rows x 11 columns]"
            ]
          },
          "metadata": {},
          "execution_count": 150
        }
      ]
    },
    {
      "cell_type": "code",
      "source": [
        "#drop - av values which av is apporximate value\n",
        "av = df['AV'] <0\n",
        "df[av]\n"
      ],
      "metadata": {
        "colab": {
          "base_uri": "https://localhost:8080/",
          "height": 143
        },
        "id": "ipj_SFY4F-1a",
        "outputId": "5845b120-1bcb-4850-bca5-434b926e4143"
      },
      "execution_count": 151,
      "outputs": [
        {
          "output_type": "execute_result",
          "data": {
            "text/html": [
              "\n",
              "  <div id=\"df-a4d3bd07-e53b-4842-b227-e286bfa6d95b\">\n",
              "    <div class=\"colab-df-container\">\n",
              "      <div>\n",
              "<style scoped>\n",
              "    .dataframe tbody tr th:only-of-type {\n",
              "        vertical-align: middle;\n",
              "    }\n",
              "\n",
              "    .dataframe tbody tr th {\n",
              "        vertical-align: top;\n",
              "    }\n",
              "\n",
              "    .dataframe thead th {\n",
              "        text-align: right;\n",
              "    }\n",
              "</style>\n",
              "<table border=\"1\" class=\"dataframe\">\n",
              "  <thead>\n",
              "    <tr style=\"text-align: right;\">\n",
              "      <th></th>\n",
              "      <th>Pos</th>\n",
              "      <th>Ht</th>\n",
              "      <th>Wt</th>\n",
              "      <th>Forty</th>\n",
              "      <th>Vertical</th>\n",
              "      <th>BenchReps</th>\n",
              "      <th>BroadJump</th>\n",
              "      <th>Cone</th>\n",
              "      <th>Shuttle</th>\n",
              "      <th>Year</th>\n",
              "      <th>AV</th>\n",
              "      <th>Round</th>\n",
              "    </tr>\n",
              "  </thead>\n",
              "  <tbody>\n",
              "    <tr>\n",
              "      <th>1138</th>\n",
              "      <td>K</td>\n",
              "      <td>73</td>\n",
              "      <td>195</td>\n",
              "      <td>5.25</td>\n",
              "      <td>NaN</td>\n",
              "      <td>NaN</td>\n",
              "      <td>NaN</td>\n",
              "      <td>NaN</td>\n",
              "      <td>NaN</td>\n",
              "      <td>2003</td>\n",
              "      <td>-1.0</td>\n",
              "      <td>8.0</td>\n",
              "    </tr>\n",
              "    <tr>\n",
              "      <th>4087</th>\n",
              "      <td>QB</td>\n",
              "      <td>76</td>\n",
              "      <td>229</td>\n",
              "      <td>4.86</td>\n",
              "      <td>29.5</td>\n",
              "      <td>NaN</td>\n",
              "      <td>108.0</td>\n",
              "      <td>7.52</td>\n",
              "      <td>4.45</td>\n",
              "      <td>2012</td>\n",
              "      <td>-4.0</td>\n",
              "      <td>6.0</td>\n",
              "    </tr>\n",
              "    <tr>\n",
              "      <th>4931</th>\n",
              "      <td>K</td>\n",
              "      <td>73</td>\n",
              "      <td>236</td>\n",
              "      <td>5.17</td>\n",
              "      <td>NaN</td>\n",
              "      <td>14.0</td>\n",
              "      <td>NaN</td>\n",
              "      <td>NaN</td>\n",
              "      <td>NaN</td>\n",
              "      <td>2015</td>\n",
              "      <td>-2.0</td>\n",
              "      <td>8.0</td>\n",
              "    </tr>\n",
              "  </tbody>\n",
              "</table>\n",
              "</div>\n",
              "      <button class=\"colab-df-convert\" onclick=\"convertToInteractive('df-a4d3bd07-e53b-4842-b227-e286bfa6d95b')\"\n",
              "              title=\"Convert this dataframe to an interactive table.\"\n",
              "              style=\"display:none;\">\n",
              "        \n",
              "  <svg xmlns=\"http://www.w3.org/2000/svg\" height=\"24px\"viewBox=\"0 0 24 24\"\n",
              "       width=\"24px\">\n",
              "    <path d=\"M0 0h24v24H0V0z\" fill=\"none\"/>\n",
              "    <path d=\"M18.56 5.44l.94 2.06.94-2.06 2.06-.94-2.06-.94-.94-2.06-.94 2.06-2.06.94zm-11 1L8.5 8.5l.94-2.06 2.06-.94-2.06-.94L8.5 2.5l-.94 2.06-2.06.94zm10 10l.94 2.06.94-2.06 2.06-.94-2.06-.94-.94-2.06-.94 2.06-2.06.94z\"/><path d=\"M17.41 7.96l-1.37-1.37c-.4-.4-.92-.59-1.43-.59-.52 0-1.04.2-1.43.59L10.3 9.45l-7.72 7.72c-.78.78-.78 2.05 0 2.83L4 21.41c.39.39.9.59 1.41.59.51 0 1.02-.2 1.41-.59l7.78-7.78 2.81-2.81c.8-.78.8-2.07 0-2.86zM5.41 20L4 18.59l7.72-7.72 1.47 1.35L5.41 20z\"/>\n",
              "  </svg>\n",
              "      </button>\n",
              "      \n",
              "  <style>\n",
              "    .colab-df-container {\n",
              "      display:flex;\n",
              "      flex-wrap:wrap;\n",
              "      gap: 12px;\n",
              "    }\n",
              "\n",
              "    .colab-df-convert {\n",
              "      background-color: #E8F0FE;\n",
              "      border: none;\n",
              "      border-radius: 50%;\n",
              "      cursor: pointer;\n",
              "      display: none;\n",
              "      fill: #1967D2;\n",
              "      height: 32px;\n",
              "      padding: 0 0 0 0;\n",
              "      width: 32px;\n",
              "    }\n",
              "\n",
              "    .colab-df-convert:hover {\n",
              "      background-color: #E2EBFA;\n",
              "      box-shadow: 0px 1px 2px rgba(60, 64, 67, 0.3), 0px 1px 3px 1px rgba(60, 64, 67, 0.15);\n",
              "      fill: #174EA6;\n",
              "    }\n",
              "\n",
              "    [theme=dark] .colab-df-convert {\n",
              "      background-color: #3B4455;\n",
              "      fill: #D2E3FC;\n",
              "    }\n",
              "\n",
              "    [theme=dark] .colab-df-convert:hover {\n",
              "      background-color: #434B5C;\n",
              "      box-shadow: 0px 1px 3px 1px rgba(0, 0, 0, 0.15);\n",
              "      filter: drop-shadow(0px 1px 2px rgba(0, 0, 0, 0.3));\n",
              "      fill: #FFFFFF;\n",
              "    }\n",
              "  </style>\n",
              "\n",
              "      <script>\n",
              "        const buttonEl =\n",
              "          document.querySelector('#df-a4d3bd07-e53b-4842-b227-e286bfa6d95b button.colab-df-convert');\n",
              "        buttonEl.style.display =\n",
              "          google.colab.kernel.accessAllowed ? 'block' : 'none';\n",
              "\n",
              "        async function convertToInteractive(key) {\n",
              "          const element = document.querySelector('#df-a4d3bd07-e53b-4842-b227-e286bfa6d95b');\n",
              "          const dataTable =\n",
              "            await google.colab.kernel.invokeFunction('convertToInteractive',\n",
              "                                                     [key], {});\n",
              "          if (!dataTable) return;\n",
              "\n",
              "          const docLinkHtml = 'Like what you see? Visit the ' +\n",
              "            '<a target=\"_blank\" href=https://colab.research.google.com/notebooks/data_table.ipynb>data table notebook</a>'\n",
              "            + ' to learn more about interactive tables.';\n",
              "          element.innerHTML = '';\n",
              "          dataTable['output_type'] = 'display_data';\n",
              "          await google.colab.output.renderOutput(dataTable, element);\n",
              "          const docLink = document.createElement('div');\n",
              "          docLink.innerHTML = docLinkHtml;\n",
              "          element.appendChild(docLink);\n",
              "        }\n",
              "      </script>\n",
              "    </div>\n",
              "  </div>\n",
              "  "
            ],
            "text/plain": [
              "     Pos  Ht   Wt  Forty  Vertical  ...  Cone  Shuttle  Year   AV  Round\n",
              "1138   K  73  195   5.25       NaN  ...   NaN      NaN  2003 -1.0    8.0\n",
              "4087  QB  76  229   4.86      29.5  ...  7.52     4.45  2012 -4.0    6.0\n",
              "4931   K  73  236   5.17       NaN  ...   NaN      NaN  2015 -2.0    8.0\n",
              "\n",
              "[3 rows x 12 columns]"
            ]
          },
          "metadata": {},
          "execution_count": 151
        }
      ]
    },
    {
      "cell_type": "code",
      "source": [
        "df.drop(index=[1138,4087,4931],inplace= True)"
      ],
      "metadata": {
        "id": "UnRel1qKGZXg"
      },
      "execution_count": 152,
      "outputs": []
    },
    {
      "cell_type": "code",
      "source": [
        "#going to impute the rest of the values with mean by round drafted/undrafted with a function"
      ],
      "metadata": {
        "id": "2Kizz-m6110A"
      },
      "execution_count": 153,
      "outputs": []
    },
    {
      "cell_type": "code",
      "source": [
        "rounds = [1,2,3,4,5,6,7,8]\n",
        "def fill_function(col):\n",
        "  for r in rounds:\n",
        "    round_filter = df['Round'] == r\n",
        "    mean = df[round_filter][col].mean()\n",
        "    df.loc[round_filter,col] = df.loc[round_filter,col].fillna(value=mean)\n"
      ],
      "metadata": {
        "id": "3a5fqLbI59p-"
      },
      "execution_count": 154,
      "outputs": []
    },
    {
      "cell_type": "code",
      "source": [
        "fill_function('Vertical')\n",
        "df.isna().sum()"
      ],
      "metadata": {
        "colab": {
          "base_uri": "https://localhost:8080/"
        },
        "id": "bWobyp8ACZsL",
        "outputId": "4ff11318-d1fb-4e50-e517-e5904a0083f3"
      },
      "execution_count": 155,
      "outputs": [
        {
          "output_type": "execute_result",
          "data": {
            "text/plain": [
              "Pos             0\n",
              "Ht              0\n",
              "Wt              0\n",
              "Forty           0\n",
              "Vertical        0\n",
              "BenchReps    1911\n",
              "BroadJump    1332\n",
              "Cone         2076\n",
              "Shuttle      2007\n",
              "Year            0\n",
              "AV              0\n",
              "Round           0\n",
              "dtype: int64"
            ]
          },
          "metadata": {},
          "execution_count": 155
        }
      ]
    },
    {
      "cell_type": "code",
      "source": [
        "fill_function('BenchReps')\n",
        "df.isna().sum()"
      ],
      "metadata": {
        "colab": {
          "base_uri": "https://localhost:8080/"
        },
        "id": "DvITvJbICnIi",
        "outputId": "9ed19ca0-0ec4-458b-c562-99fd273304b6"
      },
      "execution_count": 156,
      "outputs": [
        {
          "output_type": "execute_result",
          "data": {
            "text/plain": [
              "Pos             0\n",
              "Ht              0\n",
              "Wt              0\n",
              "Forty           0\n",
              "Vertical        0\n",
              "BenchReps       0\n",
              "BroadJump    1332\n",
              "Cone         2076\n",
              "Shuttle      2007\n",
              "Year            0\n",
              "AV              0\n",
              "Round           0\n",
              "dtype: int64"
            ]
          },
          "metadata": {},
          "execution_count": 156
        }
      ]
    },
    {
      "cell_type": "code",
      "source": [
        "fill_function('BroadJump')\n",
        "df.isna().sum()"
      ],
      "metadata": {
        "colab": {
          "base_uri": "https://localhost:8080/"
        },
        "id": "XICflHBxCsJt",
        "outputId": "47906893-4f39-4f49-f57d-f988f6fb478e"
      },
      "execution_count": 157,
      "outputs": [
        {
          "output_type": "execute_result",
          "data": {
            "text/plain": [
              "Pos             0\n",
              "Ht              0\n",
              "Wt              0\n",
              "Forty           0\n",
              "Vertical        0\n",
              "BenchReps       0\n",
              "BroadJump       0\n",
              "Cone         2076\n",
              "Shuttle      2007\n",
              "Year            0\n",
              "AV              0\n",
              "Round           0\n",
              "dtype: int64"
            ]
          },
          "metadata": {},
          "execution_count": 157
        }
      ]
    },
    {
      "cell_type": "code",
      "source": [
        "fill_function('Cone')\n",
        "df.isna().sum()"
      ],
      "metadata": {
        "colab": {
          "base_uri": "https://localhost:8080/"
        },
        "id": "sAqVkNEiCzNr",
        "outputId": "b82556b5-e761-4aed-8b91-5b7981b8e5c3"
      },
      "execution_count": 158,
      "outputs": [
        {
          "output_type": "execute_result",
          "data": {
            "text/plain": [
              "Pos             0\n",
              "Ht              0\n",
              "Wt              0\n",
              "Forty           0\n",
              "Vertical        0\n",
              "BenchReps       0\n",
              "BroadJump       0\n",
              "Cone            0\n",
              "Shuttle      2007\n",
              "Year            0\n",
              "AV              0\n",
              "Round           0\n",
              "dtype: int64"
            ]
          },
          "metadata": {},
          "execution_count": 158
        }
      ]
    },
    {
      "cell_type": "code",
      "source": [
        "fill_function('Shuttle')\n",
        "df.isna().sum()\n",
        "#The reason i did it in seperate code block satisfying to see it fill !!!!"
      ],
      "metadata": {
        "colab": {
          "base_uri": "https://localhost:8080/"
        },
        "id": "9_sCyXnSC1Gw",
        "outputId": "d97c3352-30ee-417f-cba7-c538e3ad28b2"
      },
      "execution_count": 159,
      "outputs": [
        {
          "output_type": "execute_result",
          "data": {
            "text/plain": [
              "Pos          0\n",
              "Ht           0\n",
              "Wt           0\n",
              "Forty        0\n",
              "Vertical     0\n",
              "BenchReps    0\n",
              "BroadJump    0\n",
              "Cone         0\n",
              "Shuttle      0\n",
              "Year         0\n",
              "AV           0\n",
              "Round        0\n",
              "dtype: int64"
            ]
          },
          "metadata": {},
          "execution_count": 159
        }
      ]
    },
    {
      "cell_type": "markdown",
      "source": [
        "#Value Counts for one object"
      ],
      "metadata": {
        "id": "ZBxce-8rDGZ3"
      }
    },
    {
      "cell_type": "code",
      "source": [
        "df.info()"
      ],
      "metadata": {
        "colab": {
          "base_uri": "https://localhost:8080/"
        },
        "id": "YjosbyPSD0GQ",
        "outputId": "1abd5dec-78b9-4e01-eabe-088f177868ec"
      },
      "execution_count": 160,
      "outputs": [
        {
          "output_type": "stream",
          "name": "stdout",
          "text": [
            "<class 'pandas.core.frame.DataFrame'>\n",
            "Int64Index: 6043 entries, 0 to 6217\n",
            "Data columns (total 12 columns):\n",
            " #   Column     Non-Null Count  Dtype  \n",
            "---  ------     --------------  -----  \n",
            " 0   Pos        6043 non-null   object \n",
            " 1   Ht         6043 non-null   int64  \n",
            " 2   Wt         6043 non-null   int64  \n",
            " 3   Forty      6043 non-null   float64\n",
            " 4   Vertical   6043 non-null   float64\n",
            " 5   BenchReps  6043 non-null   float64\n",
            " 6   BroadJump  6043 non-null   float64\n",
            " 7   Cone       6043 non-null   float64\n",
            " 8   Shuttle    6043 non-null   float64\n",
            " 9   Year       6043 non-null   int64  \n",
            " 10  AV         6043 non-null   float64\n",
            " 11  Round      6043 non-null   float64\n",
            "dtypes: float64(8), int64(3), object(1)\n",
            "memory usage: 613.7+ KB\n"
          ]
        }
      ]
    },
    {
      "cell_type": "code",
      "source": [
        "df['Pos'].value_counts()"
      ],
      "metadata": {
        "colab": {
          "base_uri": "https://localhost:8080/"
        },
        "id": "bVcxEfoCDXnM",
        "outputId": "fce4631f-d5b2-4f47-f610-6f7875f90eaa"
      },
      "execution_count": 161,
      "outputs": [
        {
          "output_type": "execute_result",
          "data": {
            "text/plain": [
              "WR      842\n",
              "CB      623\n",
              "RB      531\n",
              "DE      479\n",
              "DT      453\n",
              "OT      449\n",
              "OLB     422\n",
              "OG      365\n",
              "QB      342\n",
              "TE      326\n",
              "ILB     265\n",
              "FS      225\n",
              "SS      207\n",
              "C       166\n",
              "FB      116\n",
              "P        95\n",
              "K        59\n",
              "LS       20\n",
              "S        20\n",
              "EDGE     19\n",
              "G        12\n",
              "NT        3\n",
              "LB        2\n",
              "DB        1\n",
              "OL        1\n",
              "Name: Pos, dtype: int64"
            ]
          },
          "metadata": {},
          "execution_count": 161
        }
      ]
    },
    {
      "cell_type": "code",
      "source": [
        "#fix inconsistent naming"
      ],
      "metadata": {
        "id": "9xiU8BvPEhtA"
      },
      "execution_count": 162,
      "outputs": []
    },
    {
      "cell_type": "code",
      "source": [
        "df['Pos'].replace({'DB':'CB','LB':'ILB','NT':'DT','G':'OG','EDGE':'DE','S':'SS'},inplace=True)"
      ],
      "metadata": {
        "id": "Tw25SE2TDyjE"
      },
      "execution_count": 163,
      "outputs": []
    },
    {
      "cell_type": "code",
      "source": [
        "#undrafted player just going to drop\n",
        "ol = df.loc[:,'Pos']=='OL'\n",
        "df[ol]"
      ],
      "metadata": {
        "colab": {
          "base_uri": "https://localhost:8080/",
          "height": 81
        },
        "id": "6lPWBZ0qE6Q2",
        "outputId": "caf75df4-0da4-4ec1-8f24-152872275dc6"
      },
      "execution_count": 164,
      "outputs": [
        {
          "output_type": "execute_result",
          "data": {
            "text/html": [
              "\n",
              "  <div id=\"df-9810eac5-7fde-429e-9c8b-5ce5eb6c6c30\">\n",
              "    <div class=\"colab-df-container\">\n",
              "      <div>\n",
              "<style scoped>\n",
              "    .dataframe tbody tr th:only-of-type {\n",
              "        vertical-align: middle;\n",
              "    }\n",
              "\n",
              "    .dataframe tbody tr th {\n",
              "        vertical-align: top;\n",
              "    }\n",
              "\n",
              "    .dataframe thead th {\n",
              "        text-align: right;\n",
              "    }\n",
              "</style>\n",
              "<table border=\"1\" class=\"dataframe\">\n",
              "  <thead>\n",
              "    <tr style=\"text-align: right;\">\n",
              "      <th></th>\n",
              "      <th>Pos</th>\n",
              "      <th>Ht</th>\n",
              "      <th>Wt</th>\n",
              "      <th>Forty</th>\n",
              "      <th>Vertical</th>\n",
              "      <th>BenchReps</th>\n",
              "      <th>BroadJump</th>\n",
              "      <th>Cone</th>\n",
              "      <th>Shuttle</th>\n",
              "      <th>Year</th>\n",
              "      <th>AV</th>\n",
              "      <th>Round</th>\n",
              "    </tr>\n",
              "  </thead>\n",
              "  <tbody>\n",
              "    <tr>\n",
              "      <th>6070</th>\n",
              "      <td>OL</td>\n",
              "      <td>77</td>\n",
              "      <td>308</td>\n",
              "      <td>5.33</td>\n",
              "      <td>28.5</td>\n",
              "      <td>26.0</td>\n",
              "      <td>97.0</td>\n",
              "      <td>7.86</td>\n",
              "      <td>4.88</td>\n",
              "      <td>2018</td>\n",
              "      <td>0.0</td>\n",
              "      <td>8.0</td>\n",
              "    </tr>\n",
              "  </tbody>\n",
              "</table>\n",
              "</div>\n",
              "      <button class=\"colab-df-convert\" onclick=\"convertToInteractive('df-9810eac5-7fde-429e-9c8b-5ce5eb6c6c30')\"\n",
              "              title=\"Convert this dataframe to an interactive table.\"\n",
              "              style=\"display:none;\">\n",
              "        \n",
              "  <svg xmlns=\"http://www.w3.org/2000/svg\" height=\"24px\"viewBox=\"0 0 24 24\"\n",
              "       width=\"24px\">\n",
              "    <path d=\"M0 0h24v24H0V0z\" fill=\"none\"/>\n",
              "    <path d=\"M18.56 5.44l.94 2.06.94-2.06 2.06-.94-2.06-.94-.94-2.06-.94 2.06-2.06.94zm-11 1L8.5 8.5l.94-2.06 2.06-.94-2.06-.94L8.5 2.5l-.94 2.06-2.06.94zm10 10l.94 2.06.94-2.06 2.06-.94-2.06-.94-.94-2.06-.94 2.06-2.06.94z\"/><path d=\"M17.41 7.96l-1.37-1.37c-.4-.4-.92-.59-1.43-.59-.52 0-1.04.2-1.43.59L10.3 9.45l-7.72 7.72c-.78.78-.78 2.05 0 2.83L4 21.41c.39.39.9.59 1.41.59.51 0 1.02-.2 1.41-.59l7.78-7.78 2.81-2.81c.8-.78.8-2.07 0-2.86zM5.41 20L4 18.59l7.72-7.72 1.47 1.35L5.41 20z\"/>\n",
              "  </svg>\n",
              "      </button>\n",
              "      \n",
              "  <style>\n",
              "    .colab-df-container {\n",
              "      display:flex;\n",
              "      flex-wrap:wrap;\n",
              "      gap: 12px;\n",
              "    }\n",
              "\n",
              "    .colab-df-convert {\n",
              "      background-color: #E8F0FE;\n",
              "      border: none;\n",
              "      border-radius: 50%;\n",
              "      cursor: pointer;\n",
              "      display: none;\n",
              "      fill: #1967D2;\n",
              "      height: 32px;\n",
              "      padding: 0 0 0 0;\n",
              "      width: 32px;\n",
              "    }\n",
              "\n",
              "    .colab-df-convert:hover {\n",
              "      background-color: #E2EBFA;\n",
              "      box-shadow: 0px 1px 2px rgba(60, 64, 67, 0.3), 0px 1px 3px 1px rgba(60, 64, 67, 0.15);\n",
              "      fill: #174EA6;\n",
              "    }\n",
              "\n",
              "    [theme=dark] .colab-df-convert {\n",
              "      background-color: #3B4455;\n",
              "      fill: #D2E3FC;\n",
              "    }\n",
              "\n",
              "    [theme=dark] .colab-df-convert:hover {\n",
              "      background-color: #434B5C;\n",
              "      box-shadow: 0px 1px 3px 1px rgba(0, 0, 0, 0.15);\n",
              "      filter: drop-shadow(0px 1px 2px rgba(0, 0, 0, 0.3));\n",
              "      fill: #FFFFFF;\n",
              "    }\n",
              "  </style>\n",
              "\n",
              "      <script>\n",
              "        const buttonEl =\n",
              "          document.querySelector('#df-9810eac5-7fde-429e-9c8b-5ce5eb6c6c30 button.colab-df-convert');\n",
              "        buttonEl.style.display =\n",
              "          google.colab.kernel.accessAllowed ? 'block' : 'none';\n",
              "\n",
              "        async function convertToInteractive(key) {\n",
              "          const element = document.querySelector('#df-9810eac5-7fde-429e-9c8b-5ce5eb6c6c30');\n",
              "          const dataTable =\n",
              "            await google.colab.kernel.invokeFunction('convertToInteractive',\n",
              "                                                     [key], {});\n",
              "          if (!dataTable) return;\n",
              "\n",
              "          const docLinkHtml = 'Like what you see? Visit the ' +\n",
              "            '<a target=\"_blank\" href=https://colab.research.google.com/notebooks/data_table.ipynb>data table notebook</a>'\n",
              "            + ' to learn more about interactive tables.';\n",
              "          element.innerHTML = '';\n",
              "          dataTable['output_type'] = 'display_data';\n",
              "          await google.colab.output.renderOutput(dataTable, element);\n",
              "          const docLink = document.createElement('div');\n",
              "          docLink.innerHTML = docLinkHtml;\n",
              "          element.appendChild(docLink);\n",
              "        }\n",
              "      </script>\n",
              "    </div>\n",
              "  </div>\n",
              "  "
            ],
            "text/plain": [
              "     Pos  Ht   Wt  Forty  Vertical  ...  Cone  Shuttle  Year   AV  Round\n",
              "6070  OL  77  308   5.33      28.5  ...  7.86     4.88  2018  0.0    8.0\n",
              "\n",
              "[1 rows x 12 columns]"
            ]
          },
          "metadata": {},
          "execution_count": 164
        }
      ]
    },
    {
      "cell_type": "code",
      "source": [
        "df.drop(index=6070,inplace=True)"
      ],
      "metadata": {
        "id": "78T1guYYFbqx"
      },
      "execution_count": 165,
      "outputs": []
    },
    {
      "cell_type": "code",
      "source": [
        "ol = df.loc[:,'Pos']=='OL'\n",
        "df[ol]"
      ],
      "metadata": {
        "colab": {
          "base_uri": "https://localhost:8080/",
          "height": 49
        },
        "id": "7heEj3eeF8MM",
        "outputId": "e6874b84-825b-4c24-bcc5-5a1dfe3e4783"
      },
      "execution_count": 166,
      "outputs": [
        {
          "output_type": "execute_result",
          "data": {
            "text/html": [
              "\n",
              "  <div id=\"df-05991ffc-07ea-4dfe-8839-76dc043617e1\">\n",
              "    <div class=\"colab-df-container\">\n",
              "      <div>\n",
              "<style scoped>\n",
              "    .dataframe tbody tr th:only-of-type {\n",
              "        vertical-align: middle;\n",
              "    }\n",
              "\n",
              "    .dataframe tbody tr th {\n",
              "        vertical-align: top;\n",
              "    }\n",
              "\n",
              "    .dataframe thead th {\n",
              "        text-align: right;\n",
              "    }\n",
              "</style>\n",
              "<table border=\"1\" class=\"dataframe\">\n",
              "  <thead>\n",
              "    <tr style=\"text-align: right;\">\n",
              "      <th></th>\n",
              "      <th>Pos</th>\n",
              "      <th>Ht</th>\n",
              "      <th>Wt</th>\n",
              "      <th>Forty</th>\n",
              "      <th>Vertical</th>\n",
              "      <th>BenchReps</th>\n",
              "      <th>BroadJump</th>\n",
              "      <th>Cone</th>\n",
              "      <th>Shuttle</th>\n",
              "      <th>Year</th>\n",
              "      <th>AV</th>\n",
              "      <th>Round</th>\n",
              "    </tr>\n",
              "  </thead>\n",
              "  <tbody>\n",
              "  </tbody>\n",
              "</table>\n",
              "</div>\n",
              "      <button class=\"colab-df-convert\" onclick=\"convertToInteractive('df-05991ffc-07ea-4dfe-8839-76dc043617e1')\"\n",
              "              title=\"Convert this dataframe to an interactive table.\"\n",
              "              style=\"display:none;\">\n",
              "        \n",
              "  <svg xmlns=\"http://www.w3.org/2000/svg\" height=\"24px\"viewBox=\"0 0 24 24\"\n",
              "       width=\"24px\">\n",
              "    <path d=\"M0 0h24v24H0V0z\" fill=\"none\"/>\n",
              "    <path d=\"M18.56 5.44l.94 2.06.94-2.06 2.06-.94-2.06-.94-.94-2.06-.94 2.06-2.06.94zm-11 1L8.5 8.5l.94-2.06 2.06-.94-2.06-.94L8.5 2.5l-.94 2.06-2.06.94zm10 10l.94 2.06.94-2.06 2.06-.94-2.06-.94-.94-2.06-.94 2.06-2.06.94z\"/><path d=\"M17.41 7.96l-1.37-1.37c-.4-.4-.92-.59-1.43-.59-.52 0-1.04.2-1.43.59L10.3 9.45l-7.72 7.72c-.78.78-.78 2.05 0 2.83L4 21.41c.39.39.9.59 1.41.59.51 0 1.02-.2 1.41-.59l7.78-7.78 2.81-2.81c.8-.78.8-2.07 0-2.86zM5.41 20L4 18.59l7.72-7.72 1.47 1.35L5.41 20z\"/>\n",
              "  </svg>\n",
              "      </button>\n",
              "      \n",
              "  <style>\n",
              "    .colab-df-container {\n",
              "      display:flex;\n",
              "      flex-wrap:wrap;\n",
              "      gap: 12px;\n",
              "    }\n",
              "\n",
              "    .colab-df-convert {\n",
              "      background-color: #E8F0FE;\n",
              "      border: none;\n",
              "      border-radius: 50%;\n",
              "      cursor: pointer;\n",
              "      display: none;\n",
              "      fill: #1967D2;\n",
              "      height: 32px;\n",
              "      padding: 0 0 0 0;\n",
              "      width: 32px;\n",
              "    }\n",
              "\n",
              "    .colab-df-convert:hover {\n",
              "      background-color: #E2EBFA;\n",
              "      box-shadow: 0px 1px 2px rgba(60, 64, 67, 0.3), 0px 1px 3px 1px rgba(60, 64, 67, 0.15);\n",
              "      fill: #174EA6;\n",
              "    }\n",
              "\n",
              "    [theme=dark] .colab-df-convert {\n",
              "      background-color: #3B4455;\n",
              "      fill: #D2E3FC;\n",
              "    }\n",
              "\n",
              "    [theme=dark] .colab-df-convert:hover {\n",
              "      background-color: #434B5C;\n",
              "      box-shadow: 0px 1px 3px 1px rgba(0, 0, 0, 0.15);\n",
              "      filter: drop-shadow(0px 1px 2px rgba(0, 0, 0, 0.3));\n",
              "      fill: #FFFFFF;\n",
              "    }\n",
              "  </style>\n",
              "\n",
              "      <script>\n",
              "        const buttonEl =\n",
              "          document.querySelector('#df-05991ffc-07ea-4dfe-8839-76dc043617e1 button.colab-df-convert');\n",
              "        buttonEl.style.display =\n",
              "          google.colab.kernel.accessAllowed ? 'block' : 'none';\n",
              "\n",
              "        async function convertToInteractive(key) {\n",
              "          const element = document.querySelector('#df-05991ffc-07ea-4dfe-8839-76dc043617e1');\n",
              "          const dataTable =\n",
              "            await google.colab.kernel.invokeFunction('convertToInteractive',\n",
              "                                                     [key], {});\n",
              "          if (!dataTable) return;\n",
              "\n",
              "          const docLinkHtml = 'Like what you see? Visit the ' +\n",
              "            '<a target=\"_blank\" href=https://colab.research.google.com/notebooks/data_table.ipynb>data table notebook</a>'\n",
              "            + ' to learn more about interactive tables.';\n",
              "          element.innerHTML = '';\n",
              "          dataTable['output_type'] = 'display_data';\n",
              "          await google.colab.output.renderOutput(dataTable, element);\n",
              "          const docLink = document.createElement('div');\n",
              "          docLink.innerHTML = docLinkHtml;\n",
              "          element.appendChild(docLink);\n",
              "        }\n",
              "      </script>\n",
              "    </div>\n",
              "  </div>\n",
              "  "
            ],
            "text/plain": [
              "Empty DataFrame\n",
              "Columns: [Pos, Ht, Wt, Forty, Vertical, BenchReps, BroadJump, Cone, Shuttle, Year, AV, Round]\n",
              "Index: []"
            ]
          },
          "metadata": {},
          "execution_count": 166
        }
      ]
    },
    {
      "cell_type": "code",
      "source": [
        "df['Pos'].value_counts()"
      ],
      "metadata": {
        "colab": {
          "base_uri": "https://localhost:8080/"
        },
        "id": "cgU4dYcAG9gw",
        "outputId": "bd8f3c99-ee95-4ac0-e733-6f72a280af0b"
      },
      "execution_count": 167,
      "outputs": [
        {
          "output_type": "execute_result",
          "data": {
            "text/plain": [
              "WR     842\n",
              "CB     624\n",
              "RB     531\n",
              "DE     498\n",
              "DT     456\n",
              "OT     449\n",
              "OLB    422\n",
              "OG     377\n",
              "QB     342\n",
              "TE     326\n",
              "ILB    267\n",
              "SS     227\n",
              "FS     225\n",
              "C      166\n",
              "FB     116\n",
              "P       95\n",
              "K       59\n",
              "LS      20\n",
              "Name: Pos, dtype: int64"
            ]
          },
          "metadata": {},
          "execution_count": 167
        }
      ]
    },
    {
      "cell_type": "markdown",
      "source": [
        "#Exploring Data"
      ],
      "metadata": {
        "id": "-vVmD-khHS3o"
      }
    },
    {
      "cell_type": "code",
      "source": [
        "fig = plt.figure(figsize = (15,10))\n",
        "ax = fig.gca()\n",
        "df.hist(ax = ax);\n",
        "plt.savefig('hists.png')\n",
        "#files.download('hists.png')\n",
        "#Plot hists on the numeric rows"
      ],
      "metadata": {
        "colab": {
          "base_uri": "https://localhost:8080/",
          "height": 642
        },
        "id": "Ldq7Ay2THdw5",
        "outputId": "8af5fdaa-b2b2-46ef-bcf5-198ee0aaf109"
      },
      "execution_count": 168,
      "outputs": [
        {
          "output_type": "stream",
          "name": "stderr",
          "text": [
            "/usr/local/lib/python3.7/dist-packages/ipykernel_launcher.py:3: UserWarning: To output multiple subplots, the figure containing the passed axes is being cleared\n",
            "  This is separate from the ipykernel package so we can avoid doing imports until\n"
          ]
        },
        {
          "output_type": "display_data",
          "data": {
            "image/png": "[encoded data removed]",
            "text/plain": [
              "<Figure size 1080x720 with 12 Axes>"
            ]
          },
          "metadata": {
            "needs_background": "light"
          }
        }
      ]
    },
    {
      "cell_type": "code",
      "source": [
        "df.columns"
      ],
      "metadata": {
        "colab": {
          "base_uri": "https://localhost:8080/"
        },
        "id": "TDqR8W6AMM8b",
        "outputId": "a1b269d5-3be8-4122-b56c-4c160d8fdfb4"
      },
      "execution_count": 169,
      "outputs": [
        {
          "output_type": "execute_result",
          "data": {
            "text/plain": [
              "Index(['Pos', 'Ht', 'Wt', 'Forty', 'Vertical', 'BenchReps', 'BroadJump',\n",
              "       'Cone', 'Shuttle', 'Year', 'AV', 'Round'],\n",
              "      dtype='object')"
            ]
          },
          "metadata": {},
          "execution_count": 169
        }
      ]
    },
    {
      "cell_type": "code",
      "source": [
        "#boxPlots On numeric columns besides year av or round\n",
        "plt.boxplot(df['Ht']);\n",
        "plt.title('Ht')\n",
        "plt.show()\n",
        "plt.boxplot(df['Wt']);\n",
        "plt.title('Wt')\n",
        "plt.show()\n",
        "plt.boxplot(df['Forty']);\n",
        "plt.title('Forty')\n",
        "plt.show()\n",
        "plt.boxplot(df['Vertical']);\n",
        "plt.title('Vertical')\n",
        "plt.show()\n",
        "plt.boxplot(df['BenchReps']);\n",
        "plt.title('BenchReps')\n",
        "plt.show()\n",
        "plt.boxplot(df['BroadJump']);\n",
        "plt.title('BroadJump')\n",
        "plt.show()\n",
        "plt.boxplot(df['Cone']);\n",
        "plt.title('Cone')\n",
        "plt.show()\n",
        "plt.boxplot(df['Shuttle']);\n",
        "plt.title('Shuttle')\n",
        "plt.show()"
      ],
      "metadata": {
        "colab": {
          "base_uri": "https://localhost:8080/",
          "height": 1000
        },
        "id": "YCOnxIPYIVYc",
        "outputId": "14c78ab4-3094-4564-b233-02d830a6b762"
      },
      "execution_count": 170,
      "outputs": [
        {
          "output_type": "display_data",
          "data": {
            "image/png": "[encoded data removed]",
            "text/plain": [
              "<Figure size 432x288 with 1 Axes>"
            ]
          },
          "metadata": {
            "needs_background": "light"
          }
        },
        {
          "output_type": "display_data",
          "data": {
            "image/png": "[encoded data removed]",
            "text/plain": [
              "<Figure size 432x288 with 1 Axes>"
            ]
          },
          "metadata": {
            "needs_background": "light"
          }
        },
        {
          "output_type": "display_data",
          "data": {
            "image/png": "[encoded data removed]",
            "text/plain": [
              "<Figure size 432x288 with 1 Axes>"
            ]
          },
          "metadata": {
            "needs_background": "light"
          }
        },
        {
          "output_type": "display_data",
          "data": {
            "image/png": "[encoded data removed]",
            "text/plain": [
              "<Figure size 432x288 with 1 Axes>"
            ]
          },
          "metadata": {
            "needs_background": "light"
          }
        },
        {
          "output_type": "display_data",
          "data": {
            "image/png": "[encoded data removed]",
            "text/plain": [
              "<Figure size 432x288 with 1 Axes>"
            ]
          },
          "metadata": {
            "needs_background": "light"
          }
        },
        {
          "output_type": "display_data",
          "data": {
            "image/png": "[encoded data removed]",
            "text/plain": [
              "<Figure size 432x288 with 1 Axes>"
            ]
          },
          "metadata": {
            "needs_background": "light"
          }
        },
        {
          "output_type": "display_data",
          "data": {
            "image/png": "[encoded data removed]",
            "text/plain": [
              "<Figure size 432x288 with 1 Axes>"
            ]
          },
          "metadata": {
            "needs_background": "light"
          }
        },
        {
          "output_type": "display_data",
          "data": {
            "image/png": "[encoded data removed]",
            "text/plain": [
              "<Figure size 432x288 with 1 Axes>"
            ]
          },
          "metadata": {
            "needs_background": "light"
          }
        }
      ]
    },
    {
      "cell_type": "code",
      "source": [
        "#There are a few Outliers in 40 yard dash some slower times"
      ],
      "metadata": {
        "id": "5dOW7pHzLwiF"
      },
      "execution_count": 171,
      "outputs": []
    },
    {
      "cell_type": "code",
      "source": [
        "fig = plt.figure(figsize = (15,15))\n",
        "ax = fig.gca()\n",
        "sns.heatmap(df.corr(),cmap='Reds',annot=True, ax=ax)"
      ],
      "metadata": {
        "colab": {
          "base_uri": "https://localhost:8080/",
          "height": 885
        },
        "id": "iZp0nfppM9ga",
        "outputId": "a9e7dca5-d6b1-4228-e6a2-fd7f85897309"
      },
      "execution_count": 172,
      "outputs": [
        {
          "output_type": "execute_result",
          "data": {
            "text/plain": [
              "<matplotlib.axes._subplots.AxesSubplot at 0x7f01cfe89950>"
            ]
          },
          "metadata": {},
          "execution_count": 172
        },
        {
          "output_type": "display_data",
          "data": {
            "image/png": "[encoded data removed]",
            "text/plain": [
              "<Figure size 1080x1080 with 2 Axes>"
            ]
          },
          "metadata": {
            "needs_background": "light"
          }
        }
      ]
    },
    {
      "cell_type": "code",
      "source": [
        "#Av is negatively correlated to my Target of Round\n",
        "#Forty Postively COrrelated to ht and wt\n",
        "#Cone and Shuttle Postively Correlated to Eachtoher and Ht Wt Forty"
      ],
      "metadata": {
        "id": "n8dw7vgYOKTg"
      },
      "execution_count": 173,
      "outputs": []
    },
    {
      "cell_type": "code",
      "source": [
        "av_mean_per_round = []\n",
        "for r in rounds:\n",
        "  round_filter = df['Round'] == r\n",
        "  av_mean_per_round.append(df[round_filter]['AV'].mean())"
      ],
      "metadata": {
        "id": "VhkkbcA6H0ms"
      },
      "execution_count": 174,
      "outputs": []
    },
    {
      "cell_type": "code",
      "source": [
        "plt.figure(figsize=(8,8))\n",
        "plt.bar(rounds,av_mean_per_round,\n",
        "         color='saddlebrown',\n",
        "         edgecolor='green')\n",
        "plt.grid(color='grey',axis='y')\n",
        "plt.xlabel('Round drafted',fontsize=16)\n",
        "plt.ylabel('Approximate Value',fontsize=16)\n",
        "plt.xticks(fontsize=14)\n",
        "plt.yticks(fontsize=14)\n",
        "plt.title('Av per Round drafted', fontsize=18)\n",
        "plt.savefig('avround.png')\n",
        "#files.download('avround.png');"
      ],
      "metadata": {
        "colab": {
          "base_uri": "https://localhost:8080/",
          "height": 526
        },
        "id": "Vw_AHQQDGo9X",
        "outputId": "e870f148-30c5-45b0-e173-bb8852df24e2"
      },
      "execution_count": 175,
      "outputs": [
        {
          "output_type": "display_data",
          "data": {
            "image/png": "[encoded data removed]",
            "text/plain": [
              "<Figure size 576x576 with 1 Axes>"
            ]
          },
          "metadata": {
            "needs_background": "light"
          }
        }
      ]
    },
    {
      "cell_type": "code",
      "source": [
        "#Train test split\n",
        "X = df.drop(columns='Round')\n",
        "y = df['Round']\n",
        "\n",
        "X_train, X_test, y_train, y_test = train_test_split(X, y, random_state=42)"
      ],
      "metadata": {
        "id": "ypwrRCuJ4-bs"
      },
      "execution_count": 176,
      "outputs": []
    },
    {
      "cell_type": "code",
      "source": [
        "#pre processing\n",
        "scaler = StandardScaler()\n",
        "ohe = OneHotEncoder(sparse=False, handle_unknown='ignore')\n",
        "\n",
        "num_select = make_column_selector(dtype_include='number')\n",
        "cat_select = make_column_selector(dtype_include='object')\n",
        "\n",
        "col_trans = make_column_transformer((scaler, num_select), (ohe, cat_select), remainder='passthrough')"
      ],
      "metadata": {
        "id": "qSLlM67H4uyk"
      },
      "execution_count": 177,
      "outputs": []
    },
    {
      "cell_type": "code",
      "source": [
        "#log reg pipe fit and accuracy score\n",
        "log_reg = LogisticRegression(max_iter=200)\n",
        "log_reg_pipe = make_pipeline(col_trans,log_reg)\n",
        "log_reg_pipe.fit(X_train, y_train)\n",
        "\n",
        "print('training score:', log_reg_pipe.score(X_train,y_train))\n",
        "print('test score:', log_reg_pipe.score(X_test,y_test))"
      ],
      "metadata": {
        "id": "H__5eUns5M07",
        "colab": {
          "base_uri": "https://localhost:8080/"
        },
        "outputId": "f97b622d-d84f-4214-92cb-7e6eb741e8d9"
      },
      "execution_count": 178,
      "outputs": [
        {
          "output_type": "stream",
          "name": "stdout",
          "text": [
            "training score: 0.47693665857426615\n",
            "test score: 0.4923891462607545\n"
          ]
        }
      ]
    },
    {
      "cell_type": "code",
      "source": [
        "log_reg_pipe.get_params();"
      ],
      "metadata": {
        "id": "20hAfsI0GD-L"
      },
      "execution_count": 184,
      "outputs": []
    },
    {
      "cell_type": "code",
      "source": [
        "log_params = {'logisticregression__C':[0.2,0.5,0.7,1],'logisticregression__solver': ['lbfgs','newton-cg','saga','liblinear']}\n",
        "log_grid = GridSearchCV(log_reg_pipe, log_params)\n",
        "log_grid.fit(X_train,y_train)"
      ],
      "metadata": {
        "colab": {
          "base_uri": "https://localhost:8080/"
        },
        "id": "uY9DJyrsGDGh",
        "outputId": "216e4c1c-ad9b-458e-f855-183adea79f7a"
      },
      "execution_count": 183,
      "outputs": [
        {
          "output_type": "execute_result",
          "data": {
            "text/plain": [
              "GridSearchCV(estimator=Pipeline(steps=[('columntransformer',\n",
              "                                        ColumnTransformer(remainder='passthrough',\n",
              "                                                          transformers=[('standardscaler',\n",
              "                                                                         StandardScaler(),\n",
              "                                                                         <sklearn.compose._column_transformer.make_column_selector object at 0x7f01cc84c310>),\n",
              "                                                                        ('onehotencoder',\n",
              "                                                                         OneHotEncoder(handle_unknown='ignore',\n",
              "                                                                                       sparse=False),\n",
              "                                                                         <sklearn.compose._column_transformer.make_column_selector object at 0x7f01cc84c8d0>)])),\n",
              "                                       ('logisticregression',\n",
              "                                        LogisticRegression(max_iter=200))]),\n",
              "             param_grid={'logisticregression__C': [0.2, 0.5, 0.7, 1],\n",
              "                         'logisticregression__solver': ['lbfgs', 'newton-cg',\n",
              "                                                        'saga', 'liblinear']})"
            ]
          },
          "metadata": {},
          "execution_count": 183
        }
      ]
    },
    {
      "cell_type": "code",
      "source": [
        "print(log_grid.best_params_)"
      ],
      "metadata": {
        "colab": {
          "base_uri": "https://localhost:8080/"
        },
        "id": "qbgagc8BIDBs",
        "outputId": "68474363-1671-4d40-e4c0-ab0c5fa5b444"
      },
      "execution_count": 185,
      "outputs": [
        {
          "output_type": "stream",
          "name": "stdout",
          "text": [
            "{'logisticregression__C': 1, 'logisticregression__solver': 'lbfgs'}\n"
          ]
        }
      ]
    },
    {
      "cell_type": "code",
      "source": [
        "#tuned logistic regression model accuracy scores\n",
        "log_model = log_grid.best_estimator_\n",
        "print('training score:',log_model.score(X_train,y_train))\n",
        "print('test score:',log_model.score(X_test,y_test))"
      ],
      "metadata": {
        "colab": {
          "base_uri": "https://localhost:8080/"
        },
        "id": "xUPPTVnzHPON",
        "outputId": "8823610b-c62e-482e-d265-ac21e3af0346"
      },
      "execution_count": 194,
      "outputs": [
        {
          "output_type": "stream",
          "name": "stdout",
          "text": [
            "training score: 0.47693665857426615\n",
            "test score: 0.4923891462607545\n"
          ]
        }
      ]
    },
    {
      "cell_type": "code",
      "source": [
        "#tuned logistic regression model confusion matrix\n",
        "plot_confusion_matrix(log_model, X_test, y_test, cmap = 'Greens');"
      ],
      "metadata": {
        "colab": {
          "base_uri": "https://localhost:8080/",
          "height": 334
        },
        "id": "UMXyrdyl5uoR",
        "outputId": "3080622d-0ea7-4ff9-d284-f3bb0a9eead1"
      },
      "execution_count": 187,
      "outputs": [
        {
          "output_type": "stream",
          "name": "stderr",
          "text": [
            "/usr/local/lib/python3.7/dist-packages/sklearn/utils/deprecation.py:87: FutureWarning: Function plot_confusion_matrix is deprecated; Function `plot_confusion_matrix` is deprecated in 1.0 and will be removed in 1.2. Use one of the class methods: ConfusionMatrixDisplay.from_predictions or ConfusionMatrixDisplay.from_estimator.\n",
            "  warnings.warn(msg, category=FutureWarning)\n"
          ]
        },
        {
          "output_type": "display_data",
          "data": {
            "image/png": "[encoded data removed]",
            "text/plain": [
              "<Figure size 432x288 with 2 Axes>"
            ]
          },
          "metadata": {
            "needs_background": "light"
          }
        }
      ]
    },
    {
      "cell_type": "code",
      "source": [
        "#lgbm pipe fit and accuracy score\n",
        "lgbm = LGBMClassifier()\n",
        "\n",
        "lgbm_pipe = make_pipeline(col_trans,lgbm)\n",
        "lgbm_pipe.fit(X_train, y_train);\n",
        "\n",
        "print('training score:', lgbm_pipe.score(X_train,y_train))\n",
        "print('test score:', lgbm_pipe.score(X_test,y_test))"
      ],
      "metadata": {
        "colab": {
          "base_uri": "https://localhost:8080/"
        },
        "id": "y36g7NHKBnPj",
        "outputId": "6d3ac4b4-5176-4050-9b4f-bcce27974e09"
      },
      "execution_count": 188,
      "outputs": [
        {
          "output_type": "stream",
          "name": "stdout",
          "text": [
            "training score: 0.9865371882586625\n",
            "test score: 0.7213765718067505\n"
          ]
        }
      ]
    },
    {
      "cell_type": "code",
      "source": [
        "lgbm_pipe.get_params();"
      ],
      "metadata": {
        "id": "2y6MYeeZG9mh"
      },
      "execution_count": 192,
      "outputs": []
    },
    {
      "cell_type": "code",
      "source": [
        "lgbm_params = {'lgbmclassifier__max_depth':[2,5,10,20,50],'lgbmclassifier__n_estimators':[5,10,25,55,100,200],'lgbmclassifier__num_leaves':[2,10,20,31,60]}\n",
        "lgbm_grid = GridSearchCV(lgbm_pipe, lgbm_params)\n",
        "lgbm_grid.fit(X_train,y_train)"
      ],
      "metadata": {
        "colab": {
          "base_uri": "https://localhost:8080/"
        },
        "id": "gQAyDkfYG84S",
        "outputId": "439e884d-c0bf-4398-86aa-503867a7bcb6"
      },
      "execution_count": 193,
      "outputs": [
        {
          "output_type": "execute_result",
          "data": {
            "text/plain": [
              "GridSearchCV(estimator=Pipeline(steps=[('columntransformer',\n",
              "                                        ColumnTransformer(remainder='passthrough',\n",
              "                                                          transformers=[('standardscaler',\n",
              "                                                                         StandardScaler(),\n",
              "                                                                         <sklearn.compose._column_transformer.make_column_selector object at 0x7f01cc84c310>),\n",
              "                                                                        ('onehotencoder',\n",
              "                                                                         OneHotEncoder(handle_unknown='ignore',\n",
              "                                                                                       sparse=False),\n",
              "                                                                         <sklearn.compose._column_transformer.make_column_selector object at 0x7f01cc84c8d0>)])),\n",
              "                                       ('lgbmclassifier', LGBMClassifier())]),\n",
              "             param_grid={'lgbmclassifier__max_depth': [2, 5, 10, 20, 50],\n",
              "                         'lgbmclassifier__n_estimators': [5, 10, 25, 55, 100,\n",
              "                                                          200],\n",
              "                         'lgbmclassifier__num_leaves': [2, 10, 20, 31, 60]})"
            ]
          },
          "metadata": {},
          "execution_count": 193
        }
      ]
    },
    {
      "cell_type": "code",
      "source": [
        "print(lgbm_grid.best_params_)"
      ],
      "metadata": {
        "colab": {
          "base_uri": "https://localhost:8080/"
        },
        "id": "ES2SWpcyJZoz",
        "outputId": "1cf6495e-2507-482d-aec8-d905e9d0cee0"
      },
      "execution_count": 195,
      "outputs": [
        {
          "output_type": "stream",
          "name": "stdout",
          "text": [
            "{'lgbmclassifier__max_depth': 2, 'lgbmclassifier__n_estimators': 200, 'lgbmclassifier__num_leaves': 10}\n"
          ]
        }
      ]
    },
    {
      "cell_type": "code",
      "source": [
        "#tuned lgbm model accuracy scores\n",
        "lgbm_model = lgbm_grid.best_estimator_\n",
        "print('training score:',lgbm_model.score(X_train,y_train))\n",
        "print('test score:',lgbm_model.score(X_test,y_test))"
      ],
      "metadata": {
        "colab": {
          "base_uri": "https://localhost:8080/"
        },
        "id": "Vm_g1rs4JVtj",
        "outputId": "316fcd19-6f11-4427-e3d8-279aafec2f4e"
      },
      "execution_count": 196,
      "outputs": [
        {
          "output_type": "stream",
          "name": "stdout",
          "text": [
            "training score: 0.7693665857426617\n",
            "test score: 0.7399073461283918\n"
          ]
        }
      ]
    },
    {
      "cell_type": "code",
      "source": [
        "#confusion matrix of tuned lgbm model\n",
        "plot_confusion_matrix(lgbm_model, X_test, y_test, cmap = 'Greens')"
      ],
      "metadata": {
        "colab": {
          "base_uri": "https://localhost:8080/",
          "height": 351
        },
        "id": "GKCT9G-lFS0f",
        "outputId": "64282044-53a1-4a7f-f78a-65d56c89ae98"
      },
      "execution_count": 197,
      "outputs": [
        {
          "output_type": "stream",
          "name": "stderr",
          "text": [
            "/usr/local/lib/python3.7/dist-packages/sklearn/utils/deprecation.py:87: FutureWarning: Function plot_confusion_matrix is deprecated; Function `plot_confusion_matrix` is deprecated in 1.0 and will be removed in 1.2. Use one of the class methods: ConfusionMatrixDisplay.from_predictions or ConfusionMatrixDisplay.from_estimator.\n",
            "  warnings.warn(msg, category=FutureWarning)\n"
          ]
        },
        {
          "output_type": "execute_result",
          "data": {
            "text/plain": [
              "<sklearn.metrics._plot.confusion_matrix.ConfusionMatrixDisplay at 0x7f01cc80aed0>"
            ]
          },
          "metadata": {},
          "execution_count": 197
        },
        {
          "output_type": "display_data",
          "data": {
            "image/png": "[encoded data removed]",
            "text/plain": [
              "<Figure size 432x288 with 2 Axes>"
            ]
          },
          "metadata": {
            "needs_background": "light"
          }
        }
      ]
    },
    {
      "cell_type": "code",
      "source": [
        "#random forest pipe fit and accuracy score\n",
        "ran_for = RandomForestClassifier()\n",
        "ran_for_pipe = make_pipeline(col_trans,ran_for)\n",
        "ran_for_pipe.fit(X_train, y_train)\n",
        "\n",
        "print('training score:', ran_for_pipe.score(X_train,y_train))\n",
        "print('test score:', ran_for_pipe.score(X_test,y_test))"
      ],
      "metadata": {
        "colab": {
          "base_uri": "https://localhost:8080/"
        },
        "id": "1koBGVz6Dr9u",
        "outputId": "1bb84476-adc3-4f39-aa4b-bd5813a5558d"
      },
      "execution_count": 200,
      "outputs": [
        {
          "output_type": "stream",
          "name": "stdout",
          "text": [
            "training score: 1.0\n",
            "test score: 0.6982131039046989\n"
          ]
        }
      ]
    },
    {
      "cell_type": "code",
      "source": [
        "ran_for_pipe.get_params();"
      ],
      "metadata": {
        "id": "mUr_lXpnLpS3"
      },
      "execution_count": 203,
      "outputs": []
    },
    {
      "cell_type": "code",
      "source": [
        "forest_params = {'randomforestclassifier__min_samples_split': [2,3,4],'randomforestclassifier__n_estimators':[10,50,100,150,200],'randomforestclassifier__max_depth':[5,10,20,50,100]}\n",
        "forest_grid = GridSearchCV(ran_for_pipe, forest_params)\n",
        "forest_grid.fit(X_train,y_train)"
      ],
      "metadata": {
        "colab": {
          "base_uri": "https://localhost:8080/"
        },
        "id": "a4NkRBqoLlTa",
        "outputId": "9a093554-c70c-4e67-c10b-6df4da03ade7"
      },
      "execution_count": 202,
      "outputs": [
        {
          "output_type": "execute_result",
          "data": {
            "text/plain": [
              "GridSearchCV(estimator=Pipeline(steps=[('columntransformer',\n",
              "                                        ColumnTransformer(remainder='passthrough',\n",
              "                                                          transformers=[('standardscaler',\n",
              "                                                                         StandardScaler(),\n",
              "                                                                         <sklearn.compose._column_transformer.make_column_selector object at 0x7f01cc84c310>),\n",
              "                                                                        ('onehotencoder',\n",
              "                                                                         OneHotEncoder(handle_unknown='ignore',\n",
              "                                                                                       sparse=False),\n",
              "                                                                         <sklearn.compose._column_transformer.make_column_selector object at 0x7f01cc84c8d0>)])),\n",
              "                                       ('randomforestclassifier',\n",
              "                                        RandomForestClassifier())]),\n",
              "             param_grid={'randomforestclassifier__max_depth': [5, 10, 20, 50,\n",
              "                                                               100],\n",
              "                         'randomforestclassifier__min_samples_split': [2, 3, 4],\n",
              "                         'randomforestclassifier__n_estimators': [10, 50, 100,\n",
              "                                                                  150, 200]})"
            ]
          },
          "metadata": {},
          "execution_count": 202
        }
      ]
    },
    {
      "cell_type": "code",
      "source": [
        "print(forest_grid.best_params_)"
      ],
      "metadata": {
        "colab": {
          "base_uri": "https://localhost:8080/"
        },
        "id": "Gj-99aNvL3Wx",
        "outputId": "4a5b4791-9dfa-49f5-f461-15dea6f4ae55"
      },
      "execution_count": 204,
      "outputs": [
        {
          "output_type": "stream",
          "name": "stdout",
          "text": [
            "{'randomforestclassifier__max_depth': 100, 'randomforestclassifier__min_samples_split': 3, 'randomforestclassifier__n_estimators': 150}\n"
          ]
        }
      ]
    },
    {
      "cell_type": "code",
      "source": [
        "#tuned random forest model accuracy scores\n",
        "forest_model = forest_grid.best_estimator_\n",
        "print('training score:', forest_model.score(X_train,y_train))\n",
        "print('test score:', forest_model.score(X_test,y_test))"
      ],
      "metadata": {
        "colab": {
          "base_uri": "https://localhost:8080/"
        },
        "id": "mSP0o8q-L31R",
        "outputId": "a895c460-1e5f-4c7a-a991-247a52564e9b"
      },
      "execution_count": 205,
      "outputs": [
        {
          "output_type": "stream",
          "name": "stdout",
          "text": [
            "training score: 1.0\n",
            "test score: 0.71475843812045\n"
          ]
        }
      ]
    },
    {
      "cell_type": "code",
      "source": [
        "#confusion matrix of tuned random forest model\n",
        "plot_confusion_matrix(forest_model, X_test, y_test, cmap = 'Greens')"
      ],
      "metadata": {
        "colab": {
          "base_uri": "https://localhost:8080/",
          "height": 351
        },
        "id": "XZTVoYqlEEp1",
        "outputId": "e176356d-5fc4-48f5-999b-b2937ca6e867"
      },
      "execution_count": 206,
      "outputs": [
        {
          "output_type": "stream",
          "name": "stderr",
          "text": [
            "/usr/local/lib/python3.7/dist-packages/sklearn/utils/deprecation.py:87: FutureWarning: Function plot_confusion_matrix is deprecated; Function `plot_confusion_matrix` is deprecated in 1.0 and will be removed in 1.2. Use one of the class methods: ConfusionMatrixDisplay.from_predictions or ConfusionMatrixDisplay.from_estimator.\n",
            "  warnings.warn(msg, category=FutureWarning)\n"
          ]
        },
        {
          "output_type": "execute_result",
          "data": {
            "text/plain": [
              "<sklearn.metrics._plot.confusion_matrix.ConfusionMatrixDisplay at 0x7f01cc8379d0>"
            ]
          },
          "metadata": {},
          "execution_count": 206
        },
        {
          "output_type": "display_data",
          "data": {
            "image/png": "[encoded data removed]",
            "text/plain": [
              "<Figure size 432x288 with 2 Axes>"
            ]
          },
          "metadata": {
            "needs_background": "light"
          }
        }
      ]
    },
    {
      "cell_type": "markdown",
      "source": [
        "I would choose the lgbm model for production has the best accuracy results\n",
        "<br>\n",
        "Random forest similar accuracy numbers but the model is over fit even after tuning\n",
        "<br> and the logistic regression model has poor accuracy numbers compared to the other two\n"
      ],
      "metadata": {
        "id": "-lwskRQjOcqb"
      }
    }
  ]
}